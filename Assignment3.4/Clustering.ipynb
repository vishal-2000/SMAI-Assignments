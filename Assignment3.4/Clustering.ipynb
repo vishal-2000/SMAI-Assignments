{
  "cells": [
    {
      "cell_type": "markdown",
      "metadata": {
        "id": "vpWQigP0msj9"
      },
      "source": [
        "**Part 1:** \n",
        "\n",
        "Use the **Fashion-MNIST** dataset for this question.\n",
        "\n",
        "1a) Load the dataset and implement the K Means algorithm. You need to find the optimal number of clusters using the\n",
        "> i) elbow method\n",
        "\n",
        "> ii) silhoette method\n",
        "\n",
        "\n",
        "\n",
        "1b) Define the initial clusters’ centroids using:</br>\n",
        "> i) Forgy</br>\n",
        "\n",
        "> ii) Random Partition\n",
        "\n",
        "1c) Experiment with different distance measures [Euclidean distance, Manhattan distance].\n",
        "\n",
        "1d) Plot the error vs number of clusters graph while using the elbow method and silhouette \n",
        "    method. Report the optimal number of clusters found.\n",
        "\n",
        "\n",
        "1e) Visualize the dataset to depict the clusters formed. (prefer T-SNE)\n",
        "\n",
        "</br>\n",
        "</br>\n",
        "</br>\n",
        "</br>\n",
        "\n",
        "\n",
        "**Part 2:**\n",
        "</br>\n",
        "In this task, you need to implement Hierarchical clustering (agglomerative) on the same dataset.\n",
        "\n",
        "2a) visualize a dendogram and find out the optimal number of clusters with the help of Dendogram. Explain the procedure.\n",
        "\n",
        "\n",
        "2b) Implement Hierarchical clustering using: </br>\n",
        "> i) single linkage\n",
        "\n",
        "> ii) Complete linkage\n",
        "\n",
        ">Visualize the clusters obtained using these linkages and compare. \n",
        "\n"
      ]
    },
    {
      "cell_type": "code",
      "execution_count": 3,
      "metadata": {},
      "outputs": [
        {
          "name": "stdout",
          "output_type": "stream",
          "text": [
            "[[ 0.  0.  0. ...  0.  0.  0.]\n",
            " [ 0.  0.  0. ...  0.  0.  0.]\n",
            " [ 0.  0.  0. ...  0.  0.  0.]\n",
            " [ 0.  0.  0. ... 56.  0.  0.]\n",
            " [ 0.  0.  0. ...  0.  0.  0.]]\n",
            "(1000, 784)\n"
          ]
        }
      ],
      "source": [
        "# Getting data\n",
        "import pandas as pd\n",
        "data_pd = pd.read_csv('./archive/fashion-mnist_test.csv')\n",
        "# data_pd['label'].head(5)\n",
        "data_without_labels = data_pd.drop(labels=['label'], axis=1)\n",
        "data_without_labels.head(5)\n",
        "data = data_without_labels.to_numpy(dtype=float)[:1000]\n",
        "print(data[0:5])\n",
        "print(data.shape)\n",
        "# data_without_labels = data_pd.drop(labels=['label']) # .head(5)\n",
        "# load dataset\n",
        "# (trainX, trainy), (testX, testy) = fashion_mnist.load_data()"
      ]
    },
    {
      "cell_type": "code",
      "execution_count": 61,
      "metadata": {
        "id": "AW0iiyC6qDlb"
      },
      "outputs": [],
      "source": [
        "# implement Kmeans from scratch\n",
        "import random\n",
        "import numpy as np\n",
        "\n",
        "\n",
        "\n",
        "class Kmeans:\n",
        "    def __init__(self, k=3, tolerance=0.001, max_iter=300, init_clusters='forgy', d_measure='euclidean'):\n",
        "        '''\n",
        "        init_clusters: 'forgy' or 'random_partition'\n",
        "        d_measure: 'euclidean' or 'manhattan'\n",
        "        '''\n",
        "        self.k = k\n",
        "        self.tolerance = tolerance\n",
        "        self.max_iter = max_iter\n",
        "        self.init_clusters = init_clusters\n",
        "        self.distance = None\n",
        "        if d_measure == 'euclidean':\n",
        "            self.distance = self.euclidean_measure\n",
        "        elif d_measure == 'manhattan':\n",
        "            self.distance = self.manhattan_measure\n",
        "        else:\n",
        "            print(\"Invalid distance measure name given {}, use either 'euclidean' or 'manhattan'\".format(d_measure))\n",
        "            exit()\n",
        "        self.centroids = {} # contains centroid labels and their feature set\n",
        "        self.classifications = {} # contains classification labels and all the samples belonging to that label\n",
        "        self.seed = 11\n",
        "        random.seed(self.seed)\n",
        "\n",
        "    def manhattan_measure(self, x1, x2):\n",
        "        return np.sum(np.abs(x1-x2))\n",
        "\n",
        "    def euclidean_measure(self, x1, x2):\n",
        "        return np.linalg.norm(x1-x2)\n",
        "\n",
        "    def forgy(self, data):\n",
        "        '''\n",
        "        Initialize k cluster centroids by choosing k unique points randomly from the dataset\n",
        "        '''\n",
        "        self.centroids = {}\n",
        "        row_indices = []\n",
        "        # define self.k random centroids\n",
        "        for i in range(self.k):\n",
        "            row_index = random.randint(0, len(data)-1)\n",
        "            while row_index in row_indices:\n",
        "                row_index = random.randint(len(data)-1)\n",
        "            self.centroids[i] = data[row_index]\n",
        "        # return self.centroids\n",
        "\n",
        "    def random_partition(self, data):\n",
        "        '''\n",
        "        Assign a random cluster label to each data point and then proceed to the update step \n",
        "        directly from this initialization\n",
        "        '''\n",
        "        for i in range(self.k):\n",
        "            self.classifications[i] = []\n",
        "        for row in data:\n",
        "            classification_index = random.randint(0, self.k-1)\n",
        "            self.classifications[classification_index].append(row)\n",
        "\n",
        "    def get_nearest_centroid(self, observation):\n",
        "        '''\n",
        "        Finds and returns the nearest centroid to the given observation\n",
        "        '''\n",
        "        nearest_centroid_index = 0\n",
        "        nearest_centroid_dist = -1\n",
        "        for centroid in self.centroids:\n",
        "            dist = self.distance(self.centroids[centroid], observation)\n",
        "            if dist < nearest_centroid_dist or nearest_centroid_dist == -1:\n",
        "                nearest_centroid_dist = dist\n",
        "                nearest_centroid_index = centroid\n",
        "        return nearest_centroid_index, nearest_centroid_dist\n",
        "\n",
        "    def update_cluster_centroids(self):\n",
        "        for classification in self.classifications:\n",
        "            if len(self.classifications[classification])==0:\n",
        "                self.centroids[classification] = 0\n",
        "            else:\n",
        "                self.centroids[classification] = np.average(self.classifications[classification], axis=0)\n",
        "\n",
        "    def assign_cluster_centers_to_data(self, data):\n",
        "        data_with_labels = {}\n",
        "        for k in range(len(data)):\n",
        "                data_with_labels[k] = []\n",
        "        k = 0\n",
        "        for row in data:\n",
        "            nearest_centroid_index, nearest_dist = self.get_nearest_centroid(row)\n",
        "            data_with_labels[k].append(row)\n",
        "            data_with_labels[k].append(nearest_centroid_index)\n",
        "            k+=1\n",
        "        return data_with_labels\n",
        "\n",
        "    def get_cluster_counts(self, data):\n",
        "        cluster_counts = {}\n",
        "        # Clear previous assignments\n",
        "        for k in range(self.k):\n",
        "            cluster_counts[k] = 0\n",
        "        # Assign cluster centroids to training points\n",
        "        for row in data:\n",
        "            nearest_centroid_index, nearest_dist = self.get_nearest_centroid(row)\n",
        "                # print(nearest_centroid_index, self.classifications)\n",
        "            cluster_counts[nearest_centroid_index] += 1\n",
        "        \n",
        "        return cluster_counts\n",
        "\n",
        "        # for row in data:\n",
        "        #         nearest_centroid_index, nearest_dist = self.get_nearest_centroid(row)\n",
        "        #         # print(nearest_centroid_index, self.classifications)\n",
        "        #         classifications[nearest_centroid_index].append(row)\n",
        "                \n",
        "        # return classifications\n",
        "        \n",
        "\n",
        "    def fit(self, data):\n",
        "        self.centroids = {}\n",
        "        row_indices = []\n",
        "\n",
        "        # Cluster initialization\n",
        "        if self.init_clusters == 'forgy':\n",
        "            # Declare random points as cluster centroids\n",
        "            self.forgy(data)\n",
        "        elif self.init_clusters == 'random_partition':\n",
        "            # Declare each point as belonging to a particular cluster and then update the cluster centroid\n",
        "            self.random_partition(data)\n",
        "            self.update_cluster_centroids()\n",
        "        else:\n",
        "            print(\"Initialization method name is wrong, please check\")\n",
        "            exit()\n",
        "        \n",
        "\n",
        "        # Run the main training loop\n",
        "        prev_cost = -1\n",
        "        for i in range(self.max_iter):\n",
        "            # Clear previous assignments\n",
        "            for k in range(self.k):\n",
        "                self.classifications[k] = []\n",
        "\n",
        "            current_cost_before_updates = 0\n",
        "            # Assign cluster centroids to training points\n",
        "            for row in data:\n",
        "                nearest_centroid_index, nearest_dist = self.get_nearest_centroid(row)\n",
        "                # print(nearest_centroid_index, self.classifications)\n",
        "                self.classifications[nearest_centroid_index].append(row)\n",
        "                current_cost_before_updates += nearest_dist\n",
        "\n",
        "            # Compare previous cost to current, if no change beyond the tolerance, exit\n",
        "            if abs(current_cost_before_updates - prev_cost) < self.tolerance*len(data):\n",
        "                print(\"Optimized!! After {} iterations\".format(i+1))\n",
        "                break\n",
        "            prev_cost = current_cost_before_updates\n",
        "            \n",
        "            # Update cluster centroids\n",
        "            self.update_cluster_centroids()\n",
        "        "
      ]
    },
    {
      "cell_type": "code",
      "execution_count": 64,
      "metadata": {
        "id": "yY8uMDe9quTE"
      },
      "outputs": [
        {
          "name": "stdout",
          "output_type": "stream",
          "text": [
            "k = 1\n",
            "Optimized!! After 3 iterations\n",
            "k = 2\n",
            "Optimized!! After 25 iterations\n",
            "k = 4\n",
            "Optimized!! After 50 iterations\n",
            "k = 6\n",
            "Optimized!! After 34 iterations\n",
            "k = 8\n",
            "Optimized!! After 23 iterations\n",
            "k = 10\n",
            "Optimized!! After 17 iterations\n",
            "k = 15\n",
            "Optimized!! After 24 iterations\n",
            "k = 19\n",
            "Optimized!! After 46 iterations\n",
            "k = 30\n",
            "Optimized!! After 19 iterations\n",
            "k = 50\n",
            "Optimized!! After 9 iterations\n",
            "k = 100\n",
            "Optimized!! After 9 iterations\n",
            "k = 200\n",
            "Optimized!! After 9 iterations\n",
            "k = 500\n",
            "Optimized!! After 5 iterations\n",
            "k = 999\n",
            "Optimized!! After 4 iterations\n"
          ]
        },
        {
          "data": {
            "image/png": "[encoded data removed]",
            "text/plain": [
              "<Figure size 432x288 with 1 Axes>"
            ]
          },
          "metadata": {
            "needs_background": "light"
          },
          "output_type": "display_data"
        }
      ],
      "source": [
        "import matplotlib.pyplot as plt\n",
        "%matplotlib inline\n",
        "#implement elbow method from scratch\n",
        "def elbow(data):\n",
        "    '''\n",
        "    Plot the k (num of clusters) vs cluster costs and decide which k to use based on where the 'elbow'\n",
        "    occurs\n",
        "    '''\n",
        "    costs = []\n",
        "    k_vals = []\n",
        "    vals = [1, 2, 4, 6, 8, 10, 15, 19, 30, 50, 100, 200, 500, 999]\n",
        "    for i in vals: # range(1, 20):\n",
        "        print(\"k = {}\".format(i))\n",
        "        clf = Kmeans(k=i, init_clusters='forgy')\n",
        "        clf.fit(data)\n",
        "        cost = 0\n",
        "        for row in data:\n",
        "            nearest_ind, nearest_dist = clf.get_nearest_centroid(row)\n",
        "            cost += nearest_dist\n",
        "        costs.append(cost)\n",
        "        k_vals.append(i)\n",
        "    \n",
        "    plt.plot(k_vals, costs)\n",
        "    plt.title(label='Elbow method: Costs vs K-values')\n",
        "    plt.xlabel(xlabel='K_values')\n",
        "    plt.ylabel(ylabel='Cost')\n",
        "elbow(data)"
      ]
    },
    {
      "cell_type": "code",
      "execution_count": 62,
      "metadata": {
        "id": "32x9M36qq2fO"
      },
      "outputs": [
        {
          "name": "stdout",
          "output_type": "stream",
          "text": [
            "k = 1\n",
            "Optimized!! After 3 iterations\n",
            "done!\n",
            "k = 15\n",
            "Optimized!! After 24 iterations\n",
            "done!\n",
            "k = 19\n",
            "Optimized!! After 46 iterations\n",
            "done!\n",
            "k = 30\n",
            "Optimized!! After 19 iterations\n",
            "done!\n",
            "k = 50\n",
            "Optimized!! After 9 iterations\n",
            "done!\n",
            "k = 500\n",
            "Optimized!! After 5 iterations\n",
            "done!\n",
            "k = 999\n",
            "Optimized!! After 4 iterations\n",
            "done!\n"
          ]
        },
        {
          "data": {
            "image/png": "[encoded data removed]",
            "text/plain": [
              "<Figure size 432x288 with 1 Axes>"
            ]
          },
          "metadata": {
            "needs_background": "light"
          },
          "output_type": "display_data"
        }
      ],
      "source": [
        "#implement silhouette method from scratch\n",
        "def silhouette(data):\n",
        "    silhouette_costs = []\n",
        "    k_vals = []\n",
        "    vals = [1, 15, 19, 30, 50, 500, 999]\n",
        "    for i in vals:# range(1, 20, 2): \n",
        "        print(\"k = {}\".format(i))\n",
        "        clf = Kmeans(k=i, max_iter=300, init_clusters='forgy')\n",
        "        clf.fit(data)\n",
        "        # Calculate silhouette cost components\n",
        "        s = 0\n",
        "        data_with_labels = clf.assign_cluster_centers_to_data(data)\n",
        "        data_costs = {}\n",
        "        for u in range(len(data)):\n",
        "            data_costs[u] = {'a':0.0, 'b':0.0}\n",
        "            \n",
        "        for key in data_with_labels:\n",
        "            row1 = data_with_labels[key][0]\n",
        "            label1 = data_with_labels[key][1]\n",
        "            for key2 in data_with_labels:\n",
        "                row2 = data_with_labels[key2][0]\n",
        "                label2 = data_with_labels[key2][1]\n",
        "                dist = clf.euclidean_measure(row1, row2)\n",
        "                if label1==label2:\n",
        "                    data_costs[key]['a'] += dist\n",
        "                else:\n",
        "                    data_costs[key]['b'] += dist\n",
        "\n",
        "        cluster_counts = clf.get_cluster_counts(data)\n",
        "        print(\"done!\")\n",
        "        # calculating silhouette costs\n",
        "        for data_index in data_with_labels:\n",
        "            row = data_with_labels[data_index][0]\n",
        "            label = data_with_labels[data_index][1]\n",
        "            if cluster_counts[label] <= 1:\n",
        "                continue # s[i] = 0\n",
        "            a = data_costs[data_index]['a']\n",
        "            b = data_costs[data_index]['b']\n",
        "            s += (b-a)/max(b, a)\n",
        "        # classifications = clf.assign_cluster_centers_to_data(data)\n",
        "        # for classification in classifications:\n",
        "        #     if len(classifications[classification]) <= 1:\n",
        "        #         continue # s[i] = 0\n",
        "        #     for obs in classifications[classification]:\n",
        "        #         a = 0\n",
        "        #         b = 0\n",
        "        #         for obs2 in classifications[classification]:\n",
        "        #             a += clf.euclidean_measure(obs, obs2)\n",
        "        #         for classification2 in classifications:\n",
        "        #             if classification2==classification:\n",
        "        #                 continue\n",
        "        #             for obs2 in classifications[classification2]:\n",
        "        #                 b += clf.euclidean_measure(obs, obs2)\n",
        "        #         s += (b-a)/max(b, a)\n",
        "        silhouette_costs.append(s)\n",
        "        k_vals.append(i)\n",
        "    plt.plot(k_vals, silhouette_costs)\n",
        "    plt.title(label='Silhouette method: Costs vs K-values')\n",
        "    plt.xlabel(xlabel='K_values')\n",
        "    plt.ylabel(ylabel='Cost')\n",
        "                \n",
        "silhouette(data)"
      ]
    },
    {
      "cell_type": "markdown",
      "metadata": {},
      "source": [
        "# Answers\n",
        "Optimal k values are = 19, 30 or 50 (all three are nearly equal and together constitute the edge/elbow in the first graph, maxima in the second graph) (Needs magnified-graph verification)"
      ]
    },
    {
      "cell_type": "code",
      "execution_count": 66,
      "metadata": {},
      "outputs": [
        {
          "name": "stdout",
          "output_type": "stream",
          "text": [
            "Optimized!! After 22 iterations\n"
          ]
        },
        {
          "data": {
            "text/plain": [
              "6"
            ]
          },
          "execution_count": 66,
          "metadata": {},
          "output_type": "execute_result"
        }
      ],
      "source": [
        "clf = Kmeans(k=25, init_clusters='forgy')\n",
        "clf.fit(data)\n",
        "data_with_labels = clf.assign_cluster_centers_to_data(data)\n",
        "data_with_labels[0][1]"
      ]
    },
    {
      "cell_type": "code",
      "execution_count": 73,
      "metadata": {},
      "outputs": [
        {
          "data": {
            "text/plain": [
              "[False]"
            ]
          },
          "execution_count": 73,
          "metadata": {},
          "output_type": "execute_result"
        }
      ],
      "source": [
        "data_ordered = []\n",
        "labels_ordered = []\n",
        "for key in data_with_labels:\n",
        "    row1 = data_with_labels[key][0]\n",
        "    label1 = data_with_labels[key][1]\n",
        "    data_ordered.append(row1)\n",
        "    labels_ordered.append(label1)\n",
        "\n",
        "# set(labels_ordered)"
      ]
    },
    {
      "cell_type": "code",
      "execution_count": 85,
      "metadata": {},
      "outputs": [
        {
          "data": {
            "text/plain": [
              "784"
            ]
          },
          "execution_count": 85,
          "metadata": {},
          "output_type": "execute_result"
        }
      ],
      "source": [
        "len(data_ordered[labels_ordered==1])\n"
      ]
    },
    {
      "cell_type": "code",
      "execution_count": 102,
      "metadata": {},
      "outputs": [],
      "source": [
        "# Visualizing formed clusters\n",
        "clf = Kmeans(k=20, init_clusters='forgy', tolerance=0.0)\n",
        "clf.fit(data)\n",
        "data_with_labels = clf.assign_cluster_centers_to_data(data)"
      ]
    },
    {
      "cell_type": "code",
      "execution_count": 103,
      "metadata": {},
      "outputs": [
        {
          "data": {
            "image/png": "[encoded data removed]",
            "text/plain": [
              "<Figure size 432x288 with 1 Axes>"
            ]
          },
          "metadata": {
            "needs_background": "light"
          },
          "output_type": "display_data"
        }
      ],
      "source": [
        "data_ordered = []\n",
        "labels_ordered = []\n",
        "for key in data_with_labels:\n",
        "    row1 = data_with_labels[key][0]\n",
        "    label1 = data_with_labels[key][1]\n",
        "    data_ordered.append(row1)\n",
        "    labels_ordered.append(label1)\n",
        "\n",
        "from sklearn.manifold import TSNE\n",
        "tsne = TSNE(n_components=2, random_state=0)\n",
        "X_2d = tsne.fit_transform(data_ordered)\n",
        "\n",
        "data_clusters = {}\n",
        "for i in range(clf.k):\n",
        "    data_clusters[i] = []\n",
        "for i in range(len(labels_ordered)):\n",
        "    data_clusters[labels_ordered[i]].append(X_2d[i, :])\n",
        "for i in range(clf.k):\n",
        "    data_clusters[i] = np.array(data_clusters[i])\n",
        "\n",
        "# target_ids = range(len(labels_ordered))\n",
        "\n",
        "from matplotlib import pyplot as plt\n",
        "hsv = plt.get_cmap('hsv')\n",
        "colors = hsv(np.linspace(0, 1.0, len(set(labels_ordered))))\n",
        "for label, color in zip(set(labels_ordered), colors):\n",
        "    plt.scatter(data_clusters[label][:, 0], data_clusters[label][:, 1], c = np.array([color]), label=label)\n",
        "    \n",
        "\n",
        "# plt.figure(figsize=(6, 5))\n",
        "# colors = 'r', 'g', 'b', 'c', 'm', 'y', 'k', 'w', 'orange', 'purple'\n",
        "# for i, c, label in zip(target_ids, colors, digits.target_names):\n",
        "#     plt.scatter(X_2d[y == i, 0], X_2d[y == i, 1], c=c, label=label)\n",
        "plt.legend()\n",
        "plt.show()"
      ]
    },
    {
      "cell_type": "code",
      "execution_count": null,
      "metadata": {
        "id": "6j7nYmipmrC6"
      },
      "outputs": [],
      "source": [
        "from keras.datasets import fashion_mnist\n",
        "(trainX, trainy), (testX, testy) = fashion_mnist.load_data()\n",
        "\n",
        "# you can performs your training on train/test dataset alone if there are computational issues"
      ]
    },
    {
      "cell_type": "markdown",
      "metadata": {
        "id": "y4xDlZiaxs56"
      },
      "source": [
        "Hierarchical clustering"
      ]
    },
    {
      "cell_type": "code",
      "execution_count": 14,
      "metadata": {},
      "outputs": [
        {
          "name": "stdout",
          "output_type": "stream",
          "text": [
            "(10000, 785)\n",
            "(10000, 785)\n"
          ]
        },
        {
          "data": {
            "image/png": "[encoded data removed]",
            "text/plain": [
              "<Figure size 432x288 with 1 Axes>"
            ]
          },
          "metadata": {
            "needs_background": "light"
          },
          "output_type": "display_data"
        }
      ],
      "source": [
        "# print(data_pd.head(5))\n",
        "print(data_pd.values.shape)\n",
        "print(data_pd.shape)\n",
        "dendrogram = sch.dendrogram(sch.linkage(data_pd, method='ward'))"
      ]
    },
    {
      "cell_type": "code",
      "execution_count": 1,
      "metadata": {
        "id": "3teXlnf1xZZF"
      },
      "outputs": [],
      "source": [
        "# implement hierarchical clustering ( you can use scikit module)\n",
        "import pandas as pd\n",
        "import numpy as np\n",
        "from matplotlib import pyplot as plt\n",
        "from sklearn.cluster import AgglomerativeClustering\n",
        "import scipy.cluster.hierarchy as sch\n",
        "\n",
        "def hierarchical_clustering(X, no_of_clusters = 3, affinity='euclidean', linkage='ward'):\n",
        "    '''\n",
        "    Info.\n",
        "    '''\n",
        "    model = AgglomerativeClustering(n_clusters=no_of_clusters, affinity=affinity, linkage=linkage)\n",
        "    model.fit(X)\n",
        "    labels = model.labels_\n",
        "    # print(labels)\n",
        "    return labels\n"
      ]
    },
    {
      "cell_type": "code",
      "execution_count": 4,
      "metadata": {},
      "outputs": [
        {
          "data": {
            "text/plain": [
              "(1000, 784)"
            ]
          },
          "execution_count": 4,
          "metadata": {},
          "output_type": "execute_result"
        }
      ],
      "source": [
        "data_without_labels.iloc[:1000, :].shape"
      ]
    },
    {
      "cell_type": "code",
      "execution_count": 5,
      "metadata": {
        "id": "wmTODerdxlht"
      },
      "outputs": [],
      "source": [
        "#visualize a dendogram\n",
        "\n",
        "def dendogram(X: pd.DataFrame, method='single'):\n",
        "    '''\n",
        "    method: 'single', 'complete', 'ward', ...etc. (Refer documentation)\n",
        "    '''\n",
        "    dendrogram = sch.dendrogram(sch.linkage(X, method=method))\n",
        "  "
      ]
    },
    {
      "cell_type": "code",
      "execution_count": 6,
      "metadata": {},
      "outputs": [
        {
          "name": "stdout",
          "output_type": "stream",
          "text": [
            "Dendogram for single-linkage:\n"
          ]
        },
        {
          "data": {
            "image/png": "[encoded data removed]",
            "text/plain": [
              "<Figure size 432x288 with 1 Axes>"
            ]
          },
          "metadata": {
            "needs_background": "light"
          },
          "output_type": "display_data"
        }
      ],
      "source": [
        "print(\"Dendogram for single-linkage:\")\n",
        "dendogram(data_without_labels.iloc[:1000, :], method='single')"
      ]
    },
    {
      "cell_type": "code",
      "execution_count": 7,
      "metadata": {},
      "outputs": [
        {
          "name": "stdout",
          "output_type": "stream",
          "text": [
            "\n",
            "Dendogram for complete-linkage:\n"
          ]
        },
        {
          "data": {
            "image/png": "[encoded data removed]",
            "text/plain": [
              "<Figure size 432x288 with 1 Axes>"
            ]
          },
          "metadata": {
            "needs_background": "light"
          },
          "output_type": "display_data"
        }
      ],
      "source": [
        "print(\"\\nDendogram for complete-linkage:\")\n",
        "dendogram(data_without_labels.iloc[:1000, :], method='complete')"
      ]
    },
    {
      "cell_type": "markdown",
      "metadata": {
        "id": "zhYTSCC-xx4T"
      },
      "source": [
        "**Question**: Explain the procedure to find the optimal number of clusters using dendogram\n",
        "\n",
        "Answer: Optimal number of clusters = 3. Procedure:\n",
        "1. Plot the dendogram of the given data\n",
        "2. In the graph, locate the largest vertical distance between the nodes (where no new nodes are created)\n",
        "3. Draw a horizontal line in this region. The number of vertical lines (clusters) that intersect this horizontal line will be the optimal number of clusters.\n",
        "\n",
        "In the above graph, the region with largest vertical distance is the one that ranges from 80000-100000 (approximately), since the number of clusters that cut the horizontal line is 3, optimal number of clusters = 3\n",
        "\n",
        "\n",
        "\n"
      ]
    },
    {
      "cell_type": "code",
      "execution_count": 54,
      "metadata": {},
      "outputs": [],
      "source": [
        "labels_single = hierarchical_clustering(X=data_without_labels.iloc[:1000, :], no_of_clusters=3, linkage='single')\n",
        "labels_complete = hierarchical_clustering(X=data_without_labels.iloc[:1000, :], no_of_clusters=3, linkage='complete')\n"
      ]
    },
    {
      "cell_type": "code",
      "execution_count": 44,
      "metadata": {
        "id": "ujBgFKzwyLWb"
      },
      "outputs": [
        {
          "data": {
            "text/plain": [
              "numpy.ndarray"
            ]
          },
          "execution_count": 44,
          "metadata": {},
          "output_type": "execute_result"
        }
      ],
      "source": [
        "#visualisation of clusters using single linkage and complete linkage\n",
        "from sklearn.manifold import TSNE\n",
        "tsne = TSNE(n_components=2, random_state=0)\n",
        "X_2d = tsne.fit_transform(data_without_labels.iloc[:1000, :])\n",
        "\n",
        "type(X_2d)\n",
        "# plt.scatter(data_without_labels[labels==0, 0], data_pd[labels==0, 1], s=50, marker='o', color='red')\n",
        "# plt.scatter(data_pd[labels==1, 0], data_pd[labels==1, 1], s=50, marker='o', color='blue')\n",
        "# plt.scatter(data_pd[labels==2, 0], data_pd[labels==2, 1], s=50, marker='o', color='green')\n",
        "# # plt.scatter(X[labels==3, 0], X[labels==3, 1], s=50, marker='o', color='purple')\n",
        "# # plt.scatter(X[labels==4, 0], X[labels==4, 1], s=50, marker='o', color='orange')\n",
        "# plt.show()\n"
      ]
    },
    {
      "cell_type": "code",
      "execution_count": 56,
      "metadata": {},
      "outputs": [
        {
          "data": {
            "image/png": "[encoded data removed]",
            "text/plain": [
              "<Figure size 432x288 with 1 Axes>"
            ]
          },
          "metadata": {
            "needs_background": "light"
          },
          "output_type": "display_data"
        }
      ],
      "source": [
        "data_clusters = {}\n",
        "for i in range(3):\n",
        "    data_clusters[i] = []\n",
        "for i in range(len(labels_single)):\n",
        "    data_clusters[labels_single[i]].append(X_2d[i, :])\n",
        "for i in range(3):\n",
        "    data_clusters[i] = np.array(data_clusters[i])\n",
        "\n",
        "# target_ids = range(len(labels_ordered))\n",
        "\n",
        "from matplotlib import pyplot as plt\n",
        "hsv = plt.get_cmap('hsv')\n",
        "colors = hsv(np.linspace(0, 1.0, len(set(labels_single))))\n",
        "for label, color in zip(set(labels_single), colors):\n",
        "    plt.scatter(data_clusters[label][:, 0], data_clusters[label][:, 1], c = np.array([color]), label=label)"
      ]
    },
    {
      "cell_type": "code",
      "execution_count": 47,
      "metadata": {},
      "outputs": [
        {
          "data": {
            "image/png": "[encoded data removed]",
            "text/plain": [
              "<Figure size 432x288 with 1 Axes>"
            ]
          },
          "metadata": {
            "needs_background": "light"
          },
          "output_type": "display_data"
        }
      ],
      "source": [
        "data_clusters = {}\n",
        "for i in range(3):\n",
        "    data_clusters[i] = []\n",
        "for i in range(len(labels_complete)):\n",
        "    data_clusters[labels_complete[i]].append(X_2d[i, :])\n",
        "for i in range(3):\n",
        "    data_clusters[i] = np.array(data_clusters[i])\n",
        "\n",
        "# target_ids = range(len(labels_ordered))\n",
        "\n",
        "from matplotlib import pyplot as plt\n",
        "hsv = plt.get_cmap('hsv')\n",
        "colors = hsv(np.linspace(0, 1.0, len(set(labels_complete))))\n",
        "for label, color in zip(set(labels_complete), colors):\n",
        "    plt.scatter(data_clusters[label][:, 0], data_clusters[label][:, 1], c = np.array([color]), label=label)"
      ]
    },
    {
      "cell_type": "code",
      "execution_count": 40,
      "metadata": {},
      "outputs": [
        {
          "name": "stdout",
          "output_type": "stream",
          "text": [
            "{0, 1, 2, 3, 4, 5}\n"
          ]
        }
      ],
      "source": [
        "'''\n",
        "Just testing the data and clustering - Not a deliverable\n",
        "'''\n",
        "model = AgglomerativeClustering(n_clusters=None, affinity='euclidean', linkage='single', compute_full_tree=True, distance_threshold=2100)\n",
        "model.fit(data_without_labels.iloc[:1000, :])\n",
        "print(set(model.labels_))\n",
        "labels_c = model.labels_\n"
      ]
    },
    {
      "cell_type": "code",
      "execution_count": 42,
      "metadata": {},
      "outputs": [
        {
          "data": {
            "image/png": "[encoded data removed]",
            "text/plain": [
              "<Figure size 432x288 with 1 Axes>"
            ]
          },
          "metadata": {
            "needs_background": "light"
          },
          "output_type": "display_data"
        }
      ],
      "source": [
        "'''\n",
        "Just testing the data and clustering - Not a deliverable\n",
        "'''\n",
        "data_clusters = {}\n",
        "for i in range(6):\n",
        "    data_clusters[i] = []\n",
        "for i in range(len(labels_c)):\n",
        "    data_clusters[labels_c[i]].append(X_2d[i, :])\n",
        "for i in range(6):\n",
        "    data_clusters[i] = np.array(data_clusters[i])\n",
        "\n",
        "# target_ids = range(len(labels_ordered))\n",
        "\n",
        "from matplotlib import pyplot as plt\n",
        "hsv = plt.get_cmap('hsv')\n",
        "colors = hsv(np.linspace(0, 1.0, len(set(labels_c))))\n",
        "for label, color in zip(set(labels_c), colors):\n",
        "    plt.scatter(data_clusters[label][:, 0], data_clusters[label][:, 1], c = np.array([color]), label=label)"
      ]
    },
    {
      "cell_type": "code",
      "execution_count": 23,
      "metadata": {},
      "outputs": [
        {
          "data": {
            "text/html": [
              "<div>\n",
              "<style scoped>\n",
              "    .dataframe tbody tr th:only-of-type {\n",
              "        vertical-align: middle;\n",
              "    }\n",
              "\n",
              "    .dataframe tbody tr th {\n",
              "        vertical-align: top;\n",
              "    }\n",
              "\n",
              "    .dataframe thead th {\n",
              "        text-align: right;\n",
              "    }\n",
              "</style>\n",
              "<table border=\"1\" class=\"dataframe\">\n",
              "  <thead>\n",
              "    <tr style=\"text-align: right;\">\n",
              "      <th></th>\n",
              "      <th>pixel1</th>\n",
              "      <th>pixel2</th>\n",
              "      <th>pixel3</th>\n",
              "      <th>pixel4</th>\n",
              "      <th>pixel5</th>\n",
              "      <th>pixel6</th>\n",
              "      <th>pixel7</th>\n",
              "      <th>pixel8</th>\n",
              "      <th>pixel9</th>\n",
              "      <th>pixel10</th>\n",
              "      <th>...</th>\n",
              "      <th>pixel775</th>\n",
              "      <th>pixel776</th>\n",
              "      <th>pixel777</th>\n",
              "      <th>pixel778</th>\n",
              "      <th>pixel779</th>\n",
              "      <th>pixel780</th>\n",
              "      <th>pixel781</th>\n",
              "      <th>pixel782</th>\n",
              "      <th>pixel783</th>\n",
              "      <th>pixel784</th>\n",
              "    </tr>\n",
              "  </thead>\n",
              "  <tbody>\n",
              "    <tr>\n",
              "      <th>0</th>\n",
              "      <td>0</td>\n",
              "      <td>0</td>\n",
              "      <td>0</td>\n",
              "      <td>0</td>\n",
              "      <td>0</td>\n",
              "      <td>0</td>\n",
              "      <td>0</td>\n",
              "      <td>9</td>\n",
              "      <td>8</td>\n",
              "      <td>0</td>\n",
              "      <td>...</td>\n",
              "      <td>103</td>\n",
              "      <td>87</td>\n",
              "      <td>56</td>\n",
              "      <td>0</td>\n",
              "      <td>0</td>\n",
              "      <td>0</td>\n",
              "      <td>0</td>\n",
              "      <td>0</td>\n",
              "      <td>0</td>\n",
              "      <td>0</td>\n",
              "    </tr>\n",
              "    <tr>\n",
              "      <th>1</th>\n",
              "      <td>0</td>\n",
              "      <td>0</td>\n",
              "      <td>0</td>\n",
              "      <td>0</td>\n",
              "      <td>0</td>\n",
              "      <td>0</td>\n",
              "      <td>0</td>\n",
              "      <td>0</td>\n",
              "      <td>0</td>\n",
              "      <td>0</td>\n",
              "      <td>...</td>\n",
              "      <td>34</td>\n",
              "      <td>0</td>\n",
              "      <td>0</td>\n",
              "      <td>0</td>\n",
              "      <td>0</td>\n",
              "      <td>0</td>\n",
              "      <td>0</td>\n",
              "      <td>0</td>\n",
              "      <td>0</td>\n",
              "      <td>0</td>\n",
              "    </tr>\n",
              "    <tr>\n",
              "      <th>2</th>\n",
              "      <td>0</td>\n",
              "      <td>0</td>\n",
              "      <td>0</td>\n",
              "      <td>0</td>\n",
              "      <td>0</td>\n",
              "      <td>0</td>\n",
              "      <td>14</td>\n",
              "      <td>53</td>\n",
              "      <td>99</td>\n",
              "      <td>17</td>\n",
              "      <td>...</td>\n",
              "      <td>0</td>\n",
              "      <td>0</td>\n",
              "      <td>0</td>\n",
              "      <td>0</td>\n",
              "      <td>63</td>\n",
              "      <td>53</td>\n",
              "      <td>31</td>\n",
              "      <td>0</td>\n",
              "      <td>0</td>\n",
              "      <td>0</td>\n",
              "    </tr>\n",
              "    <tr>\n",
              "      <th>3</th>\n",
              "      <td>0</td>\n",
              "      <td>0</td>\n",
              "      <td>0</td>\n",
              "      <td>0</td>\n",
              "      <td>0</td>\n",
              "      <td>0</td>\n",
              "      <td>0</td>\n",
              "      <td>0</td>\n",
              "      <td>0</td>\n",
              "      <td>161</td>\n",
              "      <td>...</td>\n",
              "      <td>137</td>\n",
              "      <td>126</td>\n",
              "      <td>140</td>\n",
              "      <td>0</td>\n",
              "      <td>133</td>\n",
              "      <td>224</td>\n",
              "      <td>222</td>\n",
              "      <td>56</td>\n",
              "      <td>0</td>\n",
              "      <td>0</td>\n",
              "    </tr>\n",
              "    <tr>\n",
              "      <th>4</th>\n",
              "      <td>0</td>\n",
              "      <td>0</td>\n",
              "      <td>0</td>\n",
              "      <td>0</td>\n",
              "      <td>0</td>\n",
              "      <td>0</td>\n",
              "      <td>0</td>\n",
              "      <td>0</td>\n",
              "      <td>0</td>\n",
              "      <td>0</td>\n",
              "      <td>...</td>\n",
              "      <td>0</td>\n",
              "      <td>0</td>\n",
              "      <td>0</td>\n",
              "      <td>0</td>\n",
              "      <td>0</td>\n",
              "      <td>0</td>\n",
              "      <td>0</td>\n",
              "      <td>0</td>\n",
              "      <td>0</td>\n",
              "      <td>0</td>\n",
              "    </tr>\n",
              "  </tbody>\n",
              "</table>\n",
              "<p>5 rows × 784 columns</p>\n",
              "</div>"
            ],
            "text/plain": [
              "   pixel1  pixel2  pixel3  pixel4  pixel5  pixel6  pixel7  pixel8  pixel9  \\\n",
              "0       0       0       0       0       0       0       0       9       8   \n",
              "1       0       0       0       0       0       0       0       0       0   \n",
              "2       0       0       0       0       0       0      14      53      99   \n",
              "3       0       0       0       0       0       0       0       0       0   \n",
              "4       0       0       0       0       0       0       0       0       0   \n",
              "\n",
              "   pixel10  ...  pixel775  pixel776  pixel777  pixel778  pixel779  pixel780  \\\n",
              "0        0  ...       103        87        56         0         0         0   \n",
              "1        0  ...        34         0         0         0         0         0   \n",
              "2       17  ...         0         0         0         0        63        53   \n",
              "3      161  ...       137       126       140         0       133       224   \n",
              "4        0  ...         0         0         0         0         0         0   \n",
              "\n",
              "   pixel781  pixel782  pixel783  pixel784  \n",
              "0         0         0         0         0  \n",
              "1         0         0         0         0  \n",
              "2        31         0         0         0  \n",
              "3       222        56         0         0  \n",
              "4         0         0         0         0  \n",
              "\n",
              "[5 rows x 784 columns]"
            ]
          },
          "execution_count": 23,
          "metadata": {},
          "output_type": "execute_result"
        }
      ],
      "source": [
        "data_without_labels.head(5)"
      ]
    },
    {
      "cell_type": "markdown",
      "metadata": {
        "id": "WU459HN1yYHj"
      },
      "source": [
        "**Question:** Mention the differences observed using single and complete linkage:\n",
        "\n",
        "Answer: Single linkage has very poor output, it wasn't able to properly seperate the clusters. This could be because the data points are very close to each other. Since most points are quite close to each other, this bottom-up approach clustering via single linkage (distance between the closest points) will often be rendered useless. It is also difficult to plot a proper dendogram in case of single-linkage due to which identification of optimal number of clusters is tough.\n",
        "\n",
        "In case of complete linkage, we obtained a much better quality clustering output. Complete linkage can perform clustering even when data points are close to each other. The given data has closely packed data points, hence the clustering worked well with complete-linkage (unlike single-linkage)"
      ]
    },
    {
      "cell_type": "markdown",
      "metadata": {},
      "source": []
    }
  ],
  "metadata": {
    "colab": {
      "name": "Copy of Clustering.ipynb",
      "provenance": []
    },
    "kernelspec": {
      "display_name": "Python 3",
      "name": "python3"
    },
    "language_info": {
      "codemirror_mode": {
        "name": "ipython",
        "version": 3
      },
      "file_extension": ".py",
      "mimetype": "text/x-python",
      "name": "python",
      "nbconvert_exporter": "python",
      "pygments_lexer": "ipython3",
      "version": "3.8.12"
    }
  },
  "nbformat": 4,
  "nbformat_minor": 0
}
