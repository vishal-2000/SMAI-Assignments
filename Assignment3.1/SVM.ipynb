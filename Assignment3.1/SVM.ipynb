{
  "cells": [
    {
      "cell_type": "markdown",
      "metadata": {
        "id": "KFqwgxfkI9qG"
      },
      "source": [
        "# Support Vector Machines\n",
        "\n",
        "In this section of the assignment, you will get to implement Support Vector Machines which are among the best (and many believe are indeed the best) “off-the-shelf” supervised learning algorithm.\n",
        "\n",
        "This section is further divided into 3 subsections.\n",
        "\n",
        "\n",
        "*   In the first subsection, you will work on a synthetic dataset and visualize the boundary predicted by SVM. You will also vary the value of C-parameter and see how the decision boundary changes. **Please note that you cannot use inbuilt sklearn function for SVM in this sub-section**. You can only use a QCQP (Quadratically Constrained Quadratic Program) solver like CVXPY. \n",
        "\n",
        "  References which you may find helpful for this subsection: \n",
        "  \n",
        "  1.   https://www.cvxpy.org/\n",
        "  2.   https://www.cvxpy.org/examples/basic/quadratic_program.html\n",
        "\n",
        "  Note that in this section you are expected to show how you derived the Quadratically Constrained form(which can be passed into the solver) from the basic principles of SVM algorithm\n",
        "*  In the next subsection you will use be using the famous MNIST dataset to explore various kernels and report the results. **Please note you may use inbuilt sklearn SVM functions in this subsection**\n"
      ]
    },
    {
      "cell_type": "code",
      "execution_count": 35,
      "metadata": {
        "id": "Ub9ArRIDI9qR"
      },
      "outputs": [
        {
          "name": "stdout",
          "output_type": "stream",
          "text": [
            "Requirement already satisfied: numpy in /home/vishal/anaconda3/envs/smai/lib/python3.8/site-packages (1.19.5)\n",
            "Requirement already satisfied: matplotlib in /home/vishal/anaconda3/envs/smai/lib/python3.8/site-packages (3.4.3)\n",
            "Requirement already satisfied: pillow>=6.2.0 in /home/vishal/anaconda3/envs/smai/lib/python3.8/site-packages (from matplotlib) (8.4.0)\n",
            "Requirement already satisfied: pyparsing>=2.2.1 in /home/vishal/anaconda3/envs/smai/lib/python3.8/site-packages (from matplotlib) (3.0.6)\n",
            "Requirement already satisfied: numpy>=1.16 in /home/vishal/anaconda3/envs/smai/lib/python3.8/site-packages (from matplotlib) (1.19.5)\n",
            "Requirement already satisfied: kiwisolver>=1.0.1 in /home/vishal/anaconda3/envs/smai/lib/python3.8/site-packages (from matplotlib) (1.3.1)\n",
            "Requirement already satisfied: cycler>=0.10 in /home/vishal/anaconda3/envs/smai/lib/python3.8/site-packages (from matplotlib) (0.11.0)\n",
            "Requirement already satisfied: python-dateutil>=2.7 in /home/vishal/.local/lib/python3.8/site-packages (from matplotlib) (2.8.1)\n",
            "Requirement already satisfied: six>=1.5 in /home/vishal/anaconda3/envs/smai/lib/python3.8/site-packages (from python-dateutil>=2.7->matplotlib) (1.16.0)\n",
            "Requirement already satisfied: cvxpy in /home/vishal/anaconda3/envs/smai/lib/python3.8/site-packages (1.1.17)\n",
            "Requirement already satisfied: scs>=1.1.6 in /home/vishal/anaconda3/envs/smai/lib/python3.8/site-packages (from cvxpy) (2.1.4)\n",
            "Requirement already satisfied: ecos>=2 in /home/vishal/anaconda3/envs/smai/lib/python3.8/site-packages (from cvxpy) (2.0.7.post1)\n",
            "Requirement already satisfied: osqp>=0.4.1 in /home/vishal/anaconda3/envs/smai/lib/python3.8/site-packages (from cvxpy) (0.6.2.post0)\n",
            "Requirement already satisfied: scipy>=1.1.0 in /home/vishal/anaconda3/envs/smai/lib/python3.8/site-packages (from cvxpy) (1.6.2)\n",
            "Requirement already satisfied: numpy>=1.15 in /home/vishal/anaconda3/envs/smai/lib/python3.8/site-packages (from cvxpy) (1.19.5)\n",
            "Requirement already satisfied: qdldl in /home/vishal/anaconda3/envs/smai/lib/python3.8/site-packages (from osqp>=0.4.1->cvxpy) (0.1.5.post0)\n"
          ]
        }
      ],
      "source": [
        "!pip install numpy\n",
        "!pip install matplotlib\n",
        "!pip install cvxpy\n",
        "import numpy as np\n",
        "import cvxpy as cp\n",
        "import matplotlib.pyplot as plt\n",
        "from cvxopt import matrix as cvxopt_matrix\n",
        "from cvxopt import solvers as cvxopt_solvers"
      ]
    },
    {
      "cell_type": "markdown",
      "metadata": {
        "id": "GasJBLV5I9qf"
      },
      "source": [
        "### Subsection 1"
      ]
    },
    {
      "cell_type": "code",
      "execution_count": 36,
      "metadata": {
        "id": "eulkE0pTI9qg"
      },
      "outputs": [],
      "source": [
        "# Feel free to use this helper function to visualize 2D points X with labels +1 or -1\n",
        "def plot_points(X, Y):\n",
        "    reds = []\n",
        "    blues = []\n",
        "    for i in range(Y.shape[0]):\n",
        "        if Y[i] == 1:\n",
        "            reds.append(X[i])\n",
        "        else:\n",
        "            blues.append(X[i])\n",
        "    reds = np.array(reds)\n",
        "    blues = np.array(blues)\n",
        "    plt.scatter(reds[:, 0], reds[:, 1], c = 'r')\n",
        "    plt.scatter(blues[:, 0], blues[:, 1], c = 'b')"
      ]
    },
    {
      "cell_type": "code",
      "execution_count": 37,
      "metadata": {
        "id": "rpWOqtHjI9qi"
      },
      "outputs": [
        {
          "data": {
            "image/png": "[encoded data removed]",
            "text/plain": [
              "<Figure size 432x288 with 1 Axes>"
            ]
          },
          "metadata": {
            "needs_background": "light"
          },
          "output_type": "display_data"
        }
      ],
      "source": [
        "# Create Synthetic Data and visualize the points\n",
        "X = np.array([[-3.5, -1], [-3, 0], [-3, 1], [-2.7, -1.3], [-2, -1], [-2, -2.7], \n",
        "              [-1, -2.5], [0, -3], [-1.1, 0], [0, 2.5], [1, 2], [0.7, 4], \n",
        "              [2.1, 0.2], [2.3, 1], [2.8, 1.8], [2.2, 2.8]])\n",
        "y = np.array([1, 1, 1, 1, 1, 1, 1, 1, -1, -1, -1, -1, -1, -1, -1, -1])\n",
        "\n",
        "plot_points(X, y)\n",
        "plt.show()"
      ]
    },
    {
      "cell_type": "markdown",
      "metadata": {
        "id": "qkXWnVMuI9qk"
      },
      "source": [
        "In the next cell you are required to derive the Quadratic Constrained Quadratic form of SVM **without soft constraints** from the basic principles. Start with the idea that SVM tries to maximize the margin and then derive the form which you can feed to the solver.\n",
        "\n",
        "Please print the values of w, b. \n",
        "\n",
        "**Note: You are also required to upload a page of the derivation. You may also type it in markdown here.**\n",
        "\n",
        "**Note: You cannot use sklearn SVM functions here.**"
      ]
    },
    {
      "cell_type": "code",
      "execution_count": 38,
      "metadata": {
        "id": "cL-jVJH8I9ql"
      },
      "outputs": [
        {
          "name": "stdout",
          "output_type": "stream",
          "text": [
            "     pcost       dcost       gap    pres   dres\n",
            " 0: -2.6318e+00 -6.0942e+00  5e+01  5e+00  2e+00\n",
            " 1: -1.2039e+01 -1.0290e+01  1e+01  2e+00  8e-01\n",
            " 2: -7.2285e+00 -4.5093e+00  8e+00  8e-01  3e-01\n",
            " 3: -1.9824e+00 -2.6244e+00  8e-01  1e-02  4e-03\n",
            " 4: -2.3553e+00 -2.3656e+00  1e-02  2e-04  7e-05\n",
            " 5: -2.3629e+00 -2.3630e+00  1e-04  2e-06  7e-07\n",
            " 6: -2.3629e+00 -2.3629e+00  1e-06  2e-08  7e-09\n",
            "Optimal solution found.\n",
            "[[ 1.50361550e-08]\n",
            " [-1.91861211e-09]\n",
            " [ 1.44612457e+00]\n",
            " [ 6.04277553e-09]\n",
            " [ 2.86972215e-09]\n",
            " [ 5.72350138e-09]\n",
            " [ 7.66027993e-09]\n",
            " [ 9.16824086e-01]\n",
            " [ 2.36294861e+00]\n",
            " [-1.27795435e-09]\n",
            " [ 2.31927109e-09]\n",
            " [ 9.35116342e-09]\n",
            " [ 1.77025345e-08]\n",
            " [ 1.26286442e-08]\n",
            " [ 2.25761842e-08]\n",
            " [ 2.00230970e-08]]\n",
            "w = [-1.73913051 -1.3043479 ]\n",
            "b = -2.9130436323422617\n"
          ]
        }
      ],
      "source": [
        "# Write your code here\n",
        "def get_hard_boundary(X,y):\n",
        "    # rows, cols = X.shape\n",
        "    y = y.reshape(-1,1) * 1.\n",
        "    Xprime = y * X\n",
        "    H = np.dot(Xprime, Xprime.T) * 1.\n",
        "    m = X.shape[0]\n",
        "\n",
        "    # CVXOPT solver\n",
        "    P = cvxopt_matrix(H)\n",
        "    q = cvxopt_matrix(-np.ones((m, 1)))\n",
        "    G = cvxopt_matrix(-np.eye(m))\n",
        "    h = cvxopt_matrix(np.zeros(m))\n",
        "    A = cvxopt_matrix(y.reshape(1, -1))\n",
        "    b = cvxopt_matrix(0.0)\n",
        "\n",
        "    # Run cvxopt solver\n",
        "    sol = cvxopt_solvers.qp(P, q, G, h, A, b)\n",
        "    alphas = np.array(sol['x'])\n",
        "    print(alphas)\n",
        "    w = np.dot((y * alphas).T, X)[0]\n",
        "    S = (alphas > 1e-4).flatten()\n",
        "    b = np.mean(y[S] - np.dot(X[S], w.reshape(-1,1)))\n",
        "    w  = w.flatten()\n",
        "    print('w = {}'.format(w))\n",
        "    print('b = {}'.format(b))\n",
        "    return w,b\n",
        "w, b = get_hard_boundary(X,y)"
      ]
    },
    {
      "cell_type": "markdown",
      "metadata": {
        "id": "E1qoXcdDI9qm"
      },
      "source": [
        "In the next cell you are required to visualize the boundary predicted by the solver. You may want to revise up on how to plot the a line given w, b. Please plot w vector as well as the margin lines\n",
        "\n",
        "You may want to create a function to plot the line of separation as you would require this frequently in the subsequent parts of the assignment."
      ]
    },
    {
      "cell_type": "code",
      "execution_count": 39,
      "metadata": {
        "id": "X3271BtYI9qo"
      },
      "outputs": [],
      "source": [
        "# Write your code here\n",
        "def plot_line(b, w, c):\n",
        "    '''\n",
        "    w.t x + b = 0 translates into w[1]*y + w[0]*x + b = 0\n",
        "    w: [w[0], w[1]] np.ndarray\n",
        "    b: bias term\n",
        "    color: denotes the color of the line (usefull to plot multiple lines of different color if needed)\n",
        "    '''\n",
        "    x = np.linspace(-4,4)\n",
        "    a = -w[0]/w[1]\n",
        "    y = a*x - b/w[1]\n",
        "    margin = 1 / np.sqrt(w[0]**2 + w[1]**2)\n",
        "    dist = np.sqrt(1+a**2)\n",
        "    y_n = y - dist*margin # line on the negitive side\n",
        "    y_p = y + dist*margin # line on the positive side\n",
        "    plt.plot(x,y,c)\n",
        "    plt.plot(x,y_n,c+'--')\n",
        "    plt.plot(x,y_p,c+'--')"
      ]
    },
    {
      "cell_type": "markdown",
      "metadata": {
        "id": "NnSqBDqqI9qp"
      },
      "source": [
        "In the next cell please plot only the support vectors along with the boundary, w vector, and margins. \n",
        "\n",
        "**Note: You are not supposed to hard-code the points here.**"
      ]
    },
    {
      "cell_type": "code",
      "execution_count": 40,
      "metadata": {
        "id": "wPBNQB-DI9qq"
      },
      "outputs": [
        {
          "data": {
            "image/png": "[encoded data removed]",
            "text/plain": [
              "<Figure size 432x288 with 1 Axes>"
            ]
          },
          "metadata": {
            "needs_background": "light"
          },
          "output_type": "display_data"
        }
      ],
      "source": [
        "# Write your code here\n",
        "plot_line(b, w, 'g')\n",
        "plt.xlim(-4,4)\n",
        "plt.ylim(-4,5)\n",
        "plot_points(X,y)"
      ]
    },
    {
      "cell_type": "markdown",
      "metadata": {
        "id": "x0Kso1FfI9qs"
      },
      "source": [
        "In the next cell add the following points:\n",
        "* (-4, -10) with label 1\n",
        "* (4, 4) with label -1\n",
        "\n",
        "Is the decision boundary changed after adding the points? Explain your observations theoretically."
      ]
    },
    {
      "cell_type": "code",
      "execution_count": 41,
      "metadata": {
        "id": "m4V4ea1-I9qs"
      },
      "outputs": [
        {
          "data": {
            "image/png": "[encoded data removed]",
            "text/plain": [
              "<Figure size 432x288 with 1 Axes>"
            ]
          },
          "metadata": {
            "needs_background": "light"
          },
          "output_type": "display_data"
        }
      ],
      "source": [
        "# Re-create the Synthetic Data by adding the points and visualize the points\n",
        "Xpr = np.array([[-3.5, -1], [-3, 0], [-3, 1], [-2.7, -1.3], [-2, -1], [-2, -2.7], \n",
        "              [-1, -2.5], [0, -3], [-1.1, 0], [0, 2.5], [1, 2], [0.7, 4], \n",
        "              [2.1, 0.2], [2.3, 1], [2.8, 1.8], [2.2, 2.8], [-4,-10],[4,4]])\n",
        "ypr = np.array([1, 1, 1, 1, 1, 1, 1, 1, -1, -1, -1, -1, -1, -1, -1, -1,1,-1])\n",
        "\n",
        "plot_points(Xpr, ypr)\n",
        "plt.show()"
      ]
    },
    {
      "cell_type": "code",
      "execution_count": 42,
      "metadata": {
        "id": "sW93Z-FiI9qt"
      },
      "outputs": [
        {
          "name": "stdout",
          "output_type": "stream",
          "text": [
            "     pcost       dcost       gap    pres   dres\n",
            " 0: -5.1118e+00 -1.1301e+01  7e+01  8e+00  2e+00\n",
            " 1: -1.3664e+01 -1.4490e+01  3e+01  4e+00  1e+00\n",
            " 2: -2.0689e+01 -1.2752e+01  2e+01  2e+00  5e-01\n",
            " 3: -4.3773e+00 -3.2950e+00  9e+00  4e-01  1e-01\n",
            " 4: -2.1753e+00 -2.4873e+00  3e-01  5e-16  4e-15\n",
            " 5: -2.3607e+00 -2.3642e+00  3e-03  5e-16  3e-15\n",
            " 6: -2.3629e+00 -2.3630e+00  3e-05  5e-16  5e-15\n",
            " 7: -2.3629e+00 -2.3629e+00  3e-07  9e-16  2e-15\n",
            "Optimal solution found.\n",
            "[[1.93585250e-10]\n",
            " [2.23058289e-09]\n",
            " [1.44612473e+00]\n",
            " [1.76439565e-09]\n",
            " [1.77513823e-09]\n",
            " [2.28433200e-09]\n",
            " [6.57329014e-09]\n",
            " [9.16824163e-01]\n",
            " [2.36294889e+00]\n",
            " [3.21249894e-09]\n",
            " [2.67320812e-09]\n",
            " [4.71322242e-10]\n",
            " [3.13846867e-09]\n",
            " [2.66506341e-09]\n",
            " [2.33017169e-09]\n",
            " [2.03734866e-09]\n",
            " [2.90032240e-09]\n",
            " [2.59282838e-09]]\n",
            "w = [-1.73913048 -1.30434785]\n",
            "b = -2.9130435652415354\n"
          ]
        },
        {
          "data": {
            "image/png": "[encoded data removed]",
            "text/plain": [
              "<Figure size 432x288 with 1 Axes>"
            ]
          },
          "metadata": {
            "needs_background": "light"
          },
          "output_type": "display_data"
        }
      ],
      "source": [
        "# Solve for the decision boundary using this modified dataset\n",
        "wpr, bpr = get_hard_boundary(Xpr,ypr)\n",
        "plot_line(bpr,wpr,'b')\n",
        "plt.xlim(-4,4)\n",
        "plt.ylim(-10,5)\n",
        "plot_points(Xpr,ypr)"
      ]
    },
    {
      "cell_type": "markdown",
      "metadata": {
        "id": "AiepQDo3I9qu"
      },
      "source": [
        "In the next cell you are required to modify your framing of optimisation problem to incorporate soft constraints also known as slack. Plot the decision boundary, w and margin lines for various values of C: $0.01$, $0.1$, $3$, $10$, $100$.\n",
        "\n",
        "Explain your results theoretically. How does the boundary change with varying values of C? Why?\n",
        "\n",
        "**Note: Use the modified X and y i.e after adding points in previous cell.**"
      ]
    },
    {
      "cell_type": "code",
      "execution_count": 43,
      "metadata": {
        "id": "TVEix42nI9qu"
      },
      "outputs": [],
      "source": [
        "# Write your code here for C= 0.01\n",
        "def get_soft_boundary(X, y, C):\n",
        "    '''\n",
        "    \n",
        "    '''\n",
        "    # Initializing values and computing H. Note the 1. to force to float type\n",
        "    y = y.reshape(-1,1) * 1.\n",
        "    Xprime = y * X\n",
        "    H = np.dot(Xprime, Xprime.T) * 1.\n",
        "    m = X.shape[0]\n",
        "\n",
        "    # Converting into cvxopt format - as previously\n",
        "    P = cvxopt_matrix(H)\n",
        "    q = cvxopt_matrix(-np.ones((m, 1)))\n",
        "    G = cvxopt_matrix(np.vstack((np.eye(m)*-1,np.eye(m))))\n",
        "    h = cvxopt_matrix(np.hstack((np.zeros(m), np.ones(m) * C)))\n",
        "    A = cvxopt_matrix(y.reshape(1, -1))\n",
        "    b = cvxopt_matrix(0.0)\n",
        "\n",
        "    # Run solver\n",
        "    sol = cvxopt_solvers.qp(P, q, G, h, A, b)\n",
        "    alphas = np.array(sol['x'])\n",
        "    print(alphas)\n",
        "    w = np.dot((y * alphas).T, X)[0]\n",
        "    S = (alphas > 1e-4).flatten()\n",
        "    b = np.mean(y[S] - np.dot(X[S], w.reshape(-1,1)))\n",
        "    w  = w.flatten()\n",
        "    print('w = {}'.format(w))\n",
        "    print('b = {}'.format(b))\n",
        "    return w,b  "
      ]
    },
    {
      "cell_type": "code",
      "execution_count": 48,
      "metadata": {},
      "outputs": [
        {
          "name": "stdout",
          "output_type": "stream",
          "text": [
            "     pcost       dcost       gap    pres   dres\n",
            " 0: -2.6026e+00 -3.5361e-01  9e+01  1e+01  4e-15\n",
            " 1: -1.2076e-01 -3.5017e-01  2e+00  1e-01  3e-15\n",
            " 2: -7.6571e-02 -2.5938e-01  2e-01  2e-17  4e-16\n",
            " 3: -8.5515e-02 -1.0718e-01  2e-02  7e-18  3e-16\n",
            " 4: -9.3127e-02 -9.6086e-02  3e-03  1e-17  2e-16\n",
            " 5: -9.4765e-02 -9.5225e-02  5e-04  2e-17  1e-16\n",
            " 6: -9.4945e-02 -9.4962e-02  2e-05  9e-18  2e-16\n",
            " 7: -9.4953e-02 -9.4953e-02  2e-07  8e-18  2e-16\n",
            " 8: -9.4953e-02 -9.4953e-02  2e-09  1e-17  2e-16\n",
            "Optimal solution found.\n",
            "[[6.71204771e-03]\n",
            " [9.99999984e-03]\n",
            " [9.99999991e-03]\n",
            " [9.99999963e-03]\n",
            " [9.99999986e-03]\n",
            " [3.28794192e-03]\n",
            " [9.99999983e-03]\n",
            " [9.99999988e-03]\n",
            " [9.99999996e-03]\n",
            " [9.99999988e-03]\n",
            " [9.99999984e-03]\n",
            " [9.99999788e-03]\n",
            " [9.99999988e-03]\n",
            " [9.99999977e-03]\n",
            " [9.99998985e-03]\n",
            " [1.48050695e-09]\n",
            " [2.39690397e-11]\n",
            " [5.98783389e-11]]\n",
            "w = [-0.22506802 -0.19858947]\n",
            "b = -0.061136662301054766\n"
          ]
        },
        {
          "data": {
            "image/png": "[encoded data removed]",
            "text/plain": [
              "<Figure size 432x288 with 1 Axes>"
            ]
          },
          "metadata": {
            "needs_background": "light"
          },
          "output_type": "display_data"
        }
      ],
      "source": [
        "cvals = [0.01,0.1,3,10,100]\n",
        "w, b = get_soft_boundary(Xpr,ypr,cvals[0])\n",
        "plot_line(b, w, 'b')\n",
        "plt.xlim(-4,4)\n",
        "plt.ylim(-10,5)\n",
        "plot_points(Xpr,ypr)"
      ]
    },
    {
      "cell_type": "code",
      "execution_count": 49,
      "metadata": {
        "id": "f8tdPNMAI9qv"
      },
      "outputs": [
        {
          "name": "stdout",
          "output_type": "stream",
          "text": [
            "     pcost       dcost       gap    pres   dres\n",
            " 0: -2.8305e+00 -3.1272e+00  9e+01  9e+00  2e-15\n",
            " 1: -5.6185e-01 -2.8854e+00  7e+00  5e-01  2e-15\n",
            " 2: -1.8369e-01 -1.4329e+00  1e+00  3e-02  3e-15\n",
            " 3: -2.4621e-01 -4.0857e-01  2e-01  3e-03  3e-16\n",
            " 4: -2.9106e-01 -3.3155e-01  4e-02  6e-04  2e-16\n",
            " 5: -3.0175e-01 -3.0939e-01  8e-03  1e-04  3e-16\n",
            " 6: -3.0399e-01 -3.0541e-01  1e-03  2e-05  2e-16\n",
            " 7: -3.0455e-01 -3.0457e-01  2e-05  2e-07  4e-16\n",
            " 8: -3.0455e-01 -3.0456e-01  2e-07  2e-09  4e-16\n",
            "Optimal solution found.\n",
            "[[8.79551245e-09]\n",
            " [2.55942814e-07]\n",
            " [9.99999918e-02]\n",
            " [1.54947073e-08]\n",
            " [2.02031778e-02]\n",
            " [6.15191681e-09]\n",
            " [4.16730960e-08]\n",
            " [9.99998861e-02]\n",
            " [9.99999954e-02]\n",
            " [4.66177139e-02]\n",
            " [2.83238875e-08]\n",
            " [3.25046301e-09]\n",
            " [7.35856199e-02]\n",
            " [1.62029475e-08]\n",
            " [4.85810915e-09]\n",
            " [3.08356649e-09]\n",
            " [2.90361311e-09]\n",
            " [1.87129242e-09]]\n",
            "w = [-0.38493714 -0.35146454]\n",
            "b = -0.27419798684052854\n"
          ]
        },
        {
          "data": {
            "image/png": "[encoded data removed]",
            "text/plain": [
              "<Figure size 432x288 with 1 Axes>"
            ]
          },
          "metadata": {
            "needs_background": "light"
          },
          "output_type": "display_data"
        }
      ],
      "source": [
        "# Write your code here for C= 0.1\n",
        "w, b = get_soft_boundary(Xpr,ypr,cvals[1])\n",
        "plot_line(b, w, 'b')\n",
        "plt.xlim(-4,4)\n",
        "plt.ylim(-10,5)\n",
        "plot_points(Xpr,ypr)"
      ]
    },
    {
      "cell_type": "code",
      "execution_count": 50,
      "metadata": {
        "id": "Xf5hfxRRI9qw"
      },
      "outputs": [
        {
          "name": "stdout",
          "output_type": "stream",
          "text": [
            "     pcost       dcost       gap    pres   dres\n",
            " 0: -9.8203e+00 -1.7049e+02  5e+02  1e+00  6e-15\n",
            " 1: -4.0656e+00 -6.5544e+01  9e+01  1e-01  1e-14\n",
            " 2: -2.5363e+00 -1.5179e+01  2e+01  2e-02  7e-15\n",
            " 3: -1.9374e+00 -4.1091e+00  3e+00  3e-03  6e-15\n",
            " 4: -2.3455e+00 -2.4598e+00  1e-01  1e-04  3e-15\n",
            " 5: -2.3628e+00 -2.3639e+00  1e-03  1e-06  2e-15\n",
            " 6: -2.3629e+00 -2.3630e+00  1e-05  1e-08  3e-15\n",
            " 7: -2.3629e+00 -2.3629e+00  1e-07  1e-10  3e-15\n",
            "Optimal solution found.\n",
            "[[ 4.97914982e-10]\n",
            " [ 1.53541951e-09]\n",
            " [ 1.44612475e+00]\n",
            " [ 8.74808129e-10]\n",
            " [ 1.61164225e-09]\n",
            " [ 5.80241715e-10]\n",
            " [ 2.20661009e-09]\n",
            " [ 9.16824189e-01]\n",
            " [ 2.36294895e+00]\n",
            " [ 1.63139880e-10]\n",
            " [ 2.79525272e-10]\n",
            " [ 4.53230056e-11]\n",
            " [ 3.49621647e-10]\n",
            " [ 2.17819599e-10]\n",
            " [ 6.91292606e-11]\n",
            " [ 1.57863728e-11]\n",
            " [-4.08037057e-11]\n",
            " [-6.18637669e-11]]\n",
            "w = [-1.73913043 -1.30434782]\n",
            "b = -2.9130434744072304\n"
          ]
        },
        {
          "data": {
            "image/png": "[encoded data removed]",
            "text/plain": [
              "<Figure size 432x288 with 1 Axes>"
            ]
          },
          "metadata": {
            "needs_background": "light"
          },
          "output_type": "display_data"
        }
      ],
      "source": [
        "# Write your code here for C= 3\n",
        "w, b = get_soft_boundary(Xpr,ypr,cvals[2])\n",
        "plot_line(b, w, 'b')\n",
        "plt.xlim(-4,4)\n",
        "plt.ylim(-10,5)\n",
        "plot_points(Xpr,ypr)"
      ]
    },
    {
      "cell_type": "code",
      "execution_count": 51,
      "metadata": {
        "id": "qecGoXdnI9qx"
      },
      "outputs": [
        {
          "name": "stdout",
          "output_type": "stream",
          "text": [
            "     pcost       dcost       gap    pres   dres\n",
            " 0: -2.3870e+01 -1.2468e+03  3e+03  7e-01  3e-14\n",
            " 1: -2.1107e+00 -4.3739e+02  7e+02  1e-01  1e-14\n",
            " 2:  1.8660e+00 -7.1407e+01  1e+02  2e-02  1e-14\n",
            " 3:  2.2865e+00 -1.4223e+01  2e+01  1e-15  1e-14\n",
            " 4: -1.1166e+00 -3.1550e+00  2e+00  5e-16  5e-15\n",
            " 5: -2.2967e+00 -2.5360e+00  2e-01  2e-16  2e-15\n",
            " 6: -2.3623e+00 -2.3647e+00  2e-03  2e-16  3e-15\n",
            " 7: -2.3629e+00 -2.3630e+00  2e-05  2e-16  2e-15\n",
            " 8: -2.3629e+00 -2.3629e+00  2e-07  2e-16  2e-15\n",
            "Optimal solution found.\n",
            "[[1.37880248e-09]\n",
            " [2.27053652e-09]\n",
            " [1.44612475e+00]\n",
            " [1.76399112e-09]\n",
            " [1.62934674e-09]\n",
            " [1.54137593e-09]\n",
            " [2.15511132e-09]\n",
            " [9.16824188e-01]\n",
            " [2.36294895e+00]\n",
            " [1.02937969e-09]\n",
            " [8.54637679e-10]\n",
            " [6.44518880e-10]\n",
            " [9.19096907e-10]\n",
            " [7.46034446e-10]\n",
            " [5.92637091e-10]\n",
            " [5.75410610e-10]\n",
            " [3.35489937e-10]\n",
            " [3.88057028e-10]]\n",
            "w = [-1.73913045 -1.30434784]\n",
            "b = -2.9130435144776587\n"
          ]
        },
        {
          "data": {
            "image/png": "[encoded data removed]",
            "text/plain": [
              "<Figure size 432x288 with 1 Axes>"
            ]
          },
          "metadata": {
            "needs_background": "light"
          },
          "output_type": "display_data"
        }
      ],
      "source": [
        "# Write your code here for C= 10\n",
        "w, b = get_soft_boundary(Xpr,ypr,cvals[3])\n",
        "plot_line(b, w, 'b')\n",
        "plt.xlim(-4,4)\n",
        "plt.ylim(-10,5)\n",
        "plot_points(Xpr,ypr)"
      ]
    },
    {
      "cell_type": "code",
      "execution_count": 52,
      "metadata": {
        "id": "cO3_kVe9I9qy"
      },
      "outputs": [
        {
          "name": "stdout",
          "output_type": "stream",
          "text": [
            "     pcost       dcost       gap    pres   dres\n",
            " 0:  1.5101e+02 -9.9716e+04  2e+05  6e-01  3e-13\n",
            " 1:  9.3916e+02 -3.3387e+04  5e+04  1e-01  1e-12\n",
            " 2:  9.9369e+02 -6.8221e+03  1e+04  2e-02  3e-13\n",
            " 3:  4.2180e+02 -8.9811e+02  1e+03  7e-15  9e-14\n",
            " 4:  6.0363e+01 -8.4259e+01  1e+02  2e-15  3e-14\n",
            " 5:  6.6556e+00 -1.3117e+01  2e+01  1e-15  8e-15\n",
            " 6: -5.5520e-01 -2.9306e+00  2e+00  6e-16  3e-15\n",
            " 7: -2.2449e+00 -2.5867e+00  3e-01  4e-16  2e-15\n",
            " 8: -2.3616e+00 -2.3653e+00  4e-03  2e-16  3e-15\n",
            " 9: -2.3629e+00 -2.3630e+00  4e-05  4e-16  3e-15\n",
            "10: -2.3629e+00 -2.3629e+00  4e-07  1e-16  2e-15\n",
            "Optimal solution found.\n",
            "[[2.69235992e-09]\n",
            " [6.53755511e-09]\n",
            " [1.44612473e+00]\n",
            " [3.42800666e-09]\n",
            " [7.20462830e-09]\n",
            " [2.59305900e-09]\n",
            " [4.44321259e-09]\n",
            " [9.16824176e-01]\n",
            " [2.36294892e+00]\n",
            " [1.94395091e-09]\n",
            " [1.59543478e-09]\n",
            " [1.03690132e-09]\n",
            " [1.83020198e-09]\n",
            " [1.40937640e-09]\n",
            " [1.07971501e-09]\n",
            " [1.01749630e-09]\n",
            " [6.59982820e-10]\n",
            " [7.74461749e-10]]\n",
            "w = [-1.73913046 -1.30434786]\n",
            "b = -2.913043535084911\n"
          ]
        },
        {
          "data": {
            "image/png": "[encoded data removed]",
            "text/plain": [
              "<Figure size 432x288 with 1 Axes>"
            ]
          },
          "metadata": {
            "needs_background": "light"
          },
          "output_type": "display_data"
        }
      ],
      "source": [
        "# Write your code here for C= 100\n",
        "w, b = get_soft_boundary(Xpr,ypr,cvals[4])\n",
        "plot_line(b, w, 'b')\n",
        "plt.xlim(-4,4)\n",
        "plt.ylim(-10,5)\n",
        "plot_points(Xpr,ypr)"
      ]
    },
    {
      "cell_type": "markdown",
      "metadata": {
        "id": "K7crSrYuI9qy"
      },
      "source": [
        "Take the case of C = 100 and remove the support vectors. Does the boundary change after the deletion?\n",
        "Explain why? Show your results by appropriate plots?"
      ]
    },
    {
      "cell_type": "code",
      "execution_count": 53,
      "metadata": {
        "id": "DxC0xdsEI9qz"
      },
      "outputs": [
        {
          "name": "stdout",
          "output_type": "stream",
          "text": [
            "     pcost       dcost       gap    pres   dres\n",
            " 0:  3.3858e+02 -6.2135e+04  1e+05  4e-01  2e-13\n",
            " 1:  9.9183e+02 -1.7670e+04  3e+04  7e-02  4e-13\n",
            " 2:  6.4800e+02 -9.3731e+02  2e+03  1e-03  6e-14\n",
            " 3:  1.0072e+02 -1.1431e+02  2e+02  1e-15  3e-14\n",
            " 4:  1.3779e+01 -1.7386e+01  3e+01  2e-16  9e-15\n",
            " 5:  1.6923e+00 -2.7486e+00  4e+00  1e-16  6e-15\n",
            " 6:  1.0077e-01 -5.1638e-01  6e-01  2e-16  2e-15\n",
            " 7: -8.7537e-02 -1.5420e-01  7e-02  1e-16  6e-16\n",
            " 8: -1.2589e-01 -1.4431e-01  2e-02  2e-16  2e-16\n",
            " 9: -1.3487e-01 -1.3645e-01  2e-03  2e-16  4e-16\n",
            "10: -1.3584e-01 -1.3586e-01  2e-05  2e-16  3e-16\n",
            "11: -1.3585e-01 -1.3585e-01  2e-07  2e-16  6e-16\n",
            "12: -1.3585e-01 -1.3585e-01  2e-09  2e-16  4e-16\n",
            "Optimal solution found.\n",
            "[[1.49517507e-10]\n",
            " [7.26175399e-09]\n",
            " [2.03526757e-10]\n",
            " [1.35851955e-01]\n",
            " [9.03038986e-11]\n",
            " [7.70554977e-11]\n",
            " [8.19313414e-02]\n",
            " [3.83597237e-10]\n",
            " [5.11031345e-11]\n",
            " [5.39206206e-02]\n",
            " [2.76593613e-10]\n",
            " [1.09976942e-10]\n",
            " [8.65752958e-11]\n",
            " [3.80338423e-11]\n",
            " [5.72579993e-11]]\n",
            "w = [-0.38493724 -0.35146444]\n",
            "b = -0.12133891174174267\n"
          ]
        },
        {
          "data": {
            "image/png": "[encoded data removed]",
            "text/plain": [
              "<Figure size 432x288 with 1 Axes>"
            ]
          },
          "metadata": {
            "needs_background": "light"
          },
          "output_type": "display_data"
        }
      ],
      "source": [
        "# Write your Code here\n",
        "Xpr = np.array([[-3.5, -1], [-3, 0],  [-2.7, -1.3], [-2, -1], [-2, -2.7], \n",
        "              [-1, -2.5],   [0, 2.5], [1, 2], [0.7, 4], \n",
        "              [2.1, 0.2], [2.3, 1], [2.8, 1.8], [2.2, 2.8], [-4,-10],[4,4]])\n",
        "ypr = np.array([1, 1,  1, 1, 1, 1,  -1, -1, -1, -1, -1, -1, -1,1,-1])\n",
        "plot_points(Xpr, ypr)\n",
        "w, b = get_soft_boundary(Xpr,ypr, cvals[4])\n",
        "plot_line(b, w,'b')\n",
        "plt.xlim(-4,4)\n",
        "plt.ylim(-10,5)\n",
        "plot_points(Xpr,ypr)"
      ]
    },
    {
      "cell_type": "markdown",
      "metadata": {
        "id": "7goMP4wFI9q0"
      },
      "source": [
        "### Subsection 2"
      ]
    },
    {
      "cell_type": "code",
      "execution_count": 54,
      "metadata": {
        "id": "PZdBRpHuI9q0"
      },
      "outputs": [
        {
          "name": "stdout",
          "output_type": "stream",
          "text": [
            "Collecting python-mnist\n",
            "  Downloading python_mnist-0.7-py2.py3-none-any.whl (9.6 kB)\n",
            "Installing collected packages: python-mnist\n",
            "Successfully installed python-mnist-0.7\n",
            "--2021-12-04 22:55:14--  http://yann.lecun.com/exdb/mnist/train-images-idx3-ubyte.gz\n",
            "Resolving yann.lecun.com (yann.lecun.com)... 172.67.171.76, 104.21.29.36, 2606:4700:3036::ac43:ab4c, ...\n",
            "Connecting to yann.lecun.com (yann.lecun.com)|172.67.171.76|:80... connected.\n",
            "HTTP request sent, awaiting response... 200 OK\n",
            "Length: 9912422 (9.5M) [application/x-gzip]\n",
            "Saving to: ‘samples/train-images-idx3-ubyte.gz’\n",
            "\n",
            "train-images-idx3-u 100%[===================>]   9.45M  1.94MB/s    in 4.7s    \n",
            "\n",
            "2021-12-04 22:55:20 (2.00 MB/s) - ‘samples/train-images-idx3-ubyte.gz’ saved [9912422/9912422]\n",
            "\n",
            "--2021-12-04 22:55:20--  http://yann.lecun.com/exdb/mnist/train-labels-idx1-ubyte.gz\n",
            "Resolving yann.lecun.com (yann.lecun.com)... 104.21.29.36, 172.67.171.76, 2606:4700:3034::6815:1d24, ...\n",
            "Connecting to yann.lecun.com (yann.lecun.com)|104.21.29.36|:80... connected.\n",
            "HTTP request sent, awaiting response... 200 OK\n",
            "Length: 28881 (28K) [application/x-gzip]\n",
            "Saving to: ‘samples/train-labels-idx1-ubyte.gz’\n",
            "\n",
            "train-labels-idx1-u 100%[===================>]  28.20K  --.-KB/s    in 0.09s   \n",
            "\n",
            "2021-12-04 22:55:20 (318 KB/s) - ‘samples/train-labels-idx1-ubyte.gz’ saved [28881/28881]\n",
            "\n",
            "--2021-12-04 22:55:21--  http://yann.lecun.com/exdb/mnist/t10k-images-idx3-ubyte.gz\n",
            "Resolving yann.lecun.com (yann.lecun.com)... 104.21.29.36, 172.67.171.76, 2606:4700:3034::6815:1d24, ...\n",
            "Connecting to yann.lecun.com (yann.lecun.com)|104.21.29.36|:80... connected.\n",
            "HTTP request sent, awaiting response... 200 OK\n",
            "Length: 1648877 (1.6M) [application/x-gzip]\n",
            "Saving to: ‘samples/t10k-images-idx3-ubyte.gz’\n",
            "\n",
            "t10k-images-idx3-ub 100%[===================>]   1.57M  1.77MB/s    in 0.9s    \n",
            "\n",
            "2021-12-04 22:55:22 (1.77 MB/s) - ‘samples/t10k-images-idx3-ubyte.gz’ saved [1648877/1648877]\n",
            "\n",
            "--2021-12-04 22:55:22--  http://yann.lecun.com/exdb/mnist/t10k-labels-idx1-ubyte.gz\n",
            "Resolving yann.lecun.com (yann.lecun.com)... 104.21.29.36, 172.67.171.76, 2606:4700:3034::6815:1d24, ...\n",
            "Connecting to yann.lecun.com (yann.lecun.com)|104.21.29.36|:80... connected.\n",
            "HTTP request sent, awaiting response... 200 OK\n",
            "Length: 4542 (4.4K) [application/x-gzip]\n",
            "Saving to: ‘samples/t10k-labels-idx1-ubyte.gz’\n",
            "\n",
            "t10k-labels-idx1-ub 100%[===================>]   4.44K  --.-KB/s    in 0s      \n",
            "\n",
            "2021-12-04 22:55:22 (550 MB/s) - ‘samples/t10k-labels-idx1-ubyte.gz’ saved [4542/4542]\n",
            "\n"
          ]
        }
      ],
      "source": [
        "!pip install python-mnist\n",
        "!rm -rf samples\n",
        "!mkdir samples\n",
        "!wget http://yann.lecun.com/exdb/mnist/train-images-idx3-ubyte.gz -P samples/\n",
        "!gunzip samples/train-images-idx3-ubyte.gz\n",
        "!wget http://yann.lecun.com/exdb/mnist/train-labels-idx1-ubyte.gz -P samples/\n",
        "!gunzip samples/train-labels-idx1-ubyte.gz\n",
        "!wget http://yann.lecun.com/exdb/mnist/t10k-images-idx3-ubyte.gz -P samples/\n",
        "!gunzip samples/t10k-images-idx3-ubyte.gz\n",
        "!wget http://yann.lecun.com/exdb/mnist/t10k-labels-idx1-ubyte.gz -P samples/\n",
        "!gunzip samples/t10k-labels-idx1-ubyte.gz"
      ]
    },
    {
      "cell_type": "code",
      "execution_count": 55,
      "metadata": {
        "id": "0XjsnEzVI9q1"
      },
      "outputs": [],
      "source": [
        "# Import Relevant Packages\n",
        "from sklearn.svm import SVC\n",
        "import numpy as np\n",
        "from mnist.loader import MNIST"
      ]
    },
    {
      "cell_type": "code",
      "execution_count": 58,
      "metadata": {
        "id": "WvXDgQXsI9q1"
      },
      "outputs": [
        {
          "name": "stdout",
          "output_type": "stream",
          "text": [
            "(900, 784)\n",
            "(900,)\n"
          ]
        }
      ],
      "source": [
        "mndata = MNIST('samples')\n",
        "\n",
        "# Load training dataset\n",
        "images, labels = mndata.load_training()\n",
        "l = len(labels)\n",
        "images_train = np.array(images)[:900, :]\n",
        "labels_train = np.array(labels)[:900]\n",
        "\n",
        "print(images_train.shape)\n",
        "print(labels_train.shape)"
      ]
    },
    {
      "cell_type": "code",
      "execution_count": 59,
      "metadata": {
        "id": "pqZ5EG36I9q2"
      },
      "outputs": [
        {
          "name": "stdout",
          "output_type": "stream",
          "text": [
            "(300, 784)\n",
            "(300,)\n"
          ]
        }
      ],
      "source": [
        "# Load testing dataset\n",
        "images, labels = mndata.load_testing()\n",
        "l = len(labels)\n",
        "images_test = np.array(images)[:300, :]\n",
        "labels_test = np.array(labels)[:300]\n",
        "\n",
        "print(images_test.shape)\n",
        "print(labels_test.shape)"
      ]
    },
    {
      "cell_type": "markdown",
      "metadata": {
        "id": "N8F6VkaLI9q3"
      },
      "source": [
        "- Tweak different parameters like the C Parameter and gamma parameter of the Linear SVM and report the results.\n",
        "- Experiment different kernels for classification and report the results.\n",
        "\n",
        "Report accuracy score, F1-score, Confusion matrix and any other metrics you feel useful."
      ]
    },
    {
      "cell_type": "code",
      "execution_count": 73,
      "metadata": {},
      "outputs": [],
      "source": [
        "from sklearn.metrics import confusion_matrix\n",
        "from sklearn.metrics import classification_report\n",
        "from sklearn.svm import SVC \n",
        "from sklearn.decomposition import PCA\n",
        "from sklearn.metrics import accuracy_score, f1_score\n",
        "from sklearn.preprocessing import StandardScaler\n",
        "\n",
        "def SVM(kernel, gamma='scale', C=1.0):\n",
        "    '''\n",
        "    kernel: SVC standard sklearn kernels\n",
        "    gamma: SVC standard sklearn gamma options\n",
        "    '''\n",
        "    print(\"Kernel:  {}  Gamma: {}  C: {}\".format(kernel, gamma, C))\n",
        "    svc = SVC(kernel=kernel, gamma = gamma, C=C)\n",
        "    svc.fit(images_train,labels_train)\n",
        "    y_pred = svc.predict(images_test)\n",
        "    accuracy = accuracy_score(labels_test, y_pred)\n",
        "    print(\"Accuracy: {}\".format(accuracy))\n",
        "    mat = confusion_matrix(labels_test, y_pred)\n",
        "    print('Confusion matrix: \\n{}'.format(mat))\n",
        "    print('-----------------------------------------------------------------------------')\n",
        "    return accuracy\n"
      ]
    },
    {
      "cell_type": "code",
      "execution_count": 74,
      "metadata": {},
      "outputs": [
        {
          "name": "stdout",
          "output_type": "stream",
          "text": [
            "Kernel:  linear  Gamma: scale  C: 1.0\n",
            "Accuracy: 0.8866666666666667\n",
            "Confusion matrix: \n",
            "[[24  0  0  0  0  0  0  0  0  0]\n",
            " [ 0 41  0  0  0  0  0  0  0  0]\n",
            " [ 0  0 31  0  1  0  0  0  0  0]\n",
            " [ 0  0  0 20  0  4  0  0  0  0]\n",
            " [ 0  0  0  0 33  0  1  0  0  3]\n",
            " [ 0  1  1  0  0 24  0  3  0  0]\n",
            " [ 0  0  2  0  0  1 21  0  0  0]\n",
            " [ 0  0  2  1  2  0  0 28  0  1]\n",
            " [ 0  0  0  1  0  2  0  1 16  1]\n",
            " [ 0  0  0  3  1  1  0  1  0 28]]\n",
            "-----------------------------------------------------------------------------\n",
            "Kernel:  poly  Gamma: scale  C: 1.0\n",
            "Accuracy: 0.85\n",
            "Confusion matrix: \n",
            "[[22  1  1  0  0  0  0  0  0  0]\n",
            " [ 0 41  0  0  0  0  0  0  0  0]\n",
            " [ 0  5 25  0  0  1  0  1  0  0]\n",
            " [ 0  6  1 13  0  3  0  1  0  0]\n",
            " [ 0  0  0  0 36  0  0  0  0  1]\n",
            " [ 0  5  1  0  0 22  0  1  0  0]\n",
            " [ 0  1  2  0  1  1 19  0  0  0]\n",
            " [ 0  1  0  0  2  0  0 31  0  0]\n",
            " [ 0  0  0  0  0  1  0  0 19  1]\n",
            " [ 0  2  0  0  3  0  0  1  1 27]]\n",
            "-----------------------------------------------------------------------------\n",
            "Kernel:  rbf  Gamma: scale  C: 1.0\n",
            "Accuracy: 0.9033333333333333\n",
            "Confusion matrix: \n",
            "[[24  0  0  0  0  0  0  0  0  0]\n",
            " [ 0 41  0  0  0  0  0  0  0  0]\n",
            " [ 0  0 30  0  1  0  0  1  0  0]\n",
            " [ 0  0  1 18  0  5  0  0  0  0]\n",
            " [ 0  0  0  0 35  0  1  0  0  1]\n",
            " [ 0  1  1  0  0 25  0  2  0  0]\n",
            " [ 1  0  3  0  0  1 19  0  0  0]\n",
            " [ 0  0  0  0  2  0  0 31  0  1]\n",
            " [ 0  0  1  0  1  1  0  1 17  0]\n",
            " [ 0  0  0  0  1  0  0  1  1 31]]\n",
            "-----------------------------------------------------------------------------\n",
            "Kernel:  sigmoid  Gamma: scale  C: 1.0\n",
            "Accuracy: 0.84\n",
            "Confusion matrix: \n",
            "[[24  0  0  0  0  0  0  0  0  0]\n",
            " [ 0 41  0  0  0  0  0  0  0  0]\n",
            " [ 1  0 27  2  1  0  0  1  0  0]\n",
            " [ 0  0  1 16  0  6  0  1  0  0]\n",
            " [ 0  0  1  0 32  0  0  0  0  4]\n",
            " [ 0  1  1  2  0 22  0  3  0  0]\n",
            " [ 1  0  4  0  1  1 17  0  0  0]\n",
            " [ 0  0  0  1  2  0  0 30  0  1]\n",
            " [ 0  0  1  1  0  1  0  1 16  1]\n",
            " [ 0  0  0  1  3  0  0  2  1 27]]\n",
            "-----------------------------------------------------------------------------\n",
            "Best kernel: rbf Best accuracy: 0.9033333333333333\n"
          ]
        }
      ],
      "source": [
        "# Testing various kernels\n",
        "kernels = [\"linear\", \"poly\", \"rbf\", \"sigmoid\"]\n",
        "max_accuracy = 0\n",
        "best_kernel = None\n",
        "for kernel in kernels:\n",
        "    acc = SVM(kernel)\n",
        "    if acc > max_accuracy:\n",
        "        max_accuracy = acc\n",
        "        best_kernel = kernel\n",
        "print('Best kernel: {} Best accuracy: {}'.format(best_kernel, max_accuracy))"
      ]
    },
    {
      "cell_type": "code",
      "execution_count": 75,
      "metadata": {},
      "outputs": [
        {
          "name": "stdout",
          "output_type": "stream",
          "text": [
            "Kernel:  rbf  Gamma: scale  C: 1.0\n",
            "Accuracy: 0.9033333333333333\n",
            "Confusion matrix: \n",
            "[[24  0  0  0  0  0  0  0  0  0]\n",
            " [ 0 41  0  0  0  0  0  0  0  0]\n",
            " [ 0  0 30  0  1  0  0  1  0  0]\n",
            " [ 0  0  1 18  0  5  0  0  0  0]\n",
            " [ 0  0  0  0 35  0  1  0  0  1]\n",
            " [ 0  1  1  0  0 25  0  2  0  0]\n",
            " [ 1  0  3  0  0  1 19  0  0  0]\n",
            " [ 0  0  0  0  2  0  0 31  0  1]\n",
            " [ 0  0  1  0  1  1  0  1 17  0]\n",
            " [ 0  0  0  0  1  0  0  1  1 31]]\n",
            "-----------------------------------------------------------------------------\n",
            "Kernel:  rbf  Gamma: auto  C: 1.0\n",
            "Accuracy: 0.13666666666666666\n",
            "Confusion matrix: \n",
            "[[ 0 24  0  0  0  0  0  0  0  0]\n",
            " [ 0 41  0  0  0  0  0  0  0  0]\n",
            " [ 0 32  0  0  0  0  0  0  0  0]\n",
            " [ 0 24  0  0  0  0  0  0  0  0]\n",
            " [ 0 37  0  0  0  0  0  0  0  0]\n",
            " [ 0 29  0  0  0  0  0  0  0  0]\n",
            " [ 0 24  0  0  0  0  0  0  0  0]\n",
            " [ 0 34  0  0  0  0  0  0  0  0]\n",
            " [ 0 21  0  0  0  0  0  0  0  0]\n",
            " [ 0 34  0  0  0  0  0  0  0  0]]\n",
            "-----------------------------------------------------------------------------\n",
            "Kernel:  rbf  Gamma: 1e-10  C: 1.0\n",
            "Accuracy: 0.13666666666666666\n",
            "Confusion matrix: \n",
            "[[ 0 24  0  0  0  0  0  0  0  0]\n",
            " [ 0 41  0  0  0  0  0  0  0  0]\n",
            " [ 0 32  0  0  0  0  0  0  0  0]\n",
            " [ 0 24  0  0  0  0  0  0  0  0]\n",
            " [ 0 37  0  0  0  0  0  0  0  0]\n",
            " [ 0 29  0  0  0  0  0  0  0  0]\n",
            " [ 0 24  0  0  0  0  0  0  0  0]\n",
            " [ 0 34  0  0  0  0  0  0  0  0]\n",
            " [ 0 21  0  0  0  0  0  0  0  0]\n",
            " [ 0 34  0  0  0  0  0  0  0  0]]\n",
            "-----------------------------------------------------------------------------\n",
            "Kernel:  rbf  Gamma: 1e-09  C: 1.0\n",
            "Accuracy: 0.13666666666666666\n",
            "Confusion matrix: \n",
            "[[ 0 24  0  0  0  0  0  0  0  0]\n",
            " [ 0 41  0  0  0  0  0  0  0  0]\n",
            " [ 0 32  0  0  0  0  0  0  0  0]\n",
            " [ 0 24  0  0  0  0  0  0  0  0]\n",
            " [ 0 37  0  0  0  0  0  0  0  0]\n",
            " [ 0 29  0  0  0  0  0  0  0  0]\n",
            " [ 0 24  0  0  0  0  0  0  0  0]\n",
            " [ 0 34  0  0  0  0  0  0  0  0]\n",
            " [ 0 21  0  0  0  0  0  0  0  0]\n",
            " [ 0 34  0  0  0  0  0  0  0  0]]\n",
            "-----------------------------------------------------------------------------\n",
            "Kernel:  rbf  Gamma: 1e-08  C: 1.0\n",
            "Accuracy: 0.7533333333333333\n",
            "Confusion matrix: \n",
            "[[24  0  0  0  0  0  0  0  0  0]\n",
            " [ 0 41  0  0  0  0  0  0  0  0]\n",
            " [ 0  7 21  1  0  1  0  2  0  0]\n",
            " [ 0  2  1 11  0  9  0  1  0  0]\n",
            " [ 0  0  1  0 25  0  0  0  0 11]\n",
            " [ 0  2  0  2  1 19  0  2  0  3]\n",
            " [ 1  1  1  0  6  1 14  0  0  0]\n",
            " [ 0  4  0  0  1  0  0 27  0  2]\n",
            " [ 0  1  1  1  1  1  0  1 14  1]\n",
            " [ 0  0  0  0  2  0  0  1  1 30]]\n",
            "-----------------------------------------------------------------------------\n",
            "Kernel:  rbf  Gamma: 0.3  C: 1.0\n",
            "Accuracy: 0.13666666666666666\n",
            "Confusion matrix: \n",
            "[[ 0 24  0  0  0  0  0  0  0  0]\n",
            " [ 0 41  0  0  0  0  0  0  0  0]\n",
            " [ 0 32  0  0  0  0  0  0  0  0]\n",
            " [ 0 24  0  0  0  0  0  0  0  0]\n",
            " [ 0 37  0  0  0  0  0  0  0  0]\n",
            " [ 0 29  0  0  0  0  0  0  0  0]\n",
            " [ 0 24  0  0  0  0  0  0  0  0]\n",
            " [ 0 34  0  0  0  0  0  0  0  0]\n",
            " [ 0 21  0  0  0  0  0  0  0  0]\n",
            " [ 0 34  0  0  0  0  0  0  0  0]]\n",
            "-----------------------------------------------------------------------------\n",
            "Kernel:  rbf  Gamma: 1  C: 1.0\n",
            "Accuracy: 0.13666666666666666\n",
            "Confusion matrix: \n",
            "[[ 0 24  0  0  0  0  0  0  0  0]\n",
            " [ 0 41  0  0  0  0  0  0  0  0]\n",
            " [ 0 32  0  0  0  0  0  0  0  0]\n",
            " [ 0 24  0  0  0  0  0  0  0  0]\n",
            " [ 0 37  0  0  0  0  0  0  0  0]\n",
            " [ 0 29  0  0  0  0  0  0  0  0]\n",
            " [ 0 24  0  0  0  0  0  0  0  0]\n",
            " [ 0 34  0  0  0  0  0  0  0  0]\n",
            " [ 0 21  0  0  0  0  0  0  0  0]\n",
            " [ 0 34  0  0  0  0  0  0  0  0]]\n",
            "-----------------------------------------------------------------------------\n",
            "Best gamma: scale Best accuracy: 0.84\n"
          ]
        }
      ],
      "source": [
        "# Tweaking Gamma with rbf kernel (which was found to be the best in the previous tests)\n",
        "gammas = [\"scale\",\"auto\", 1e-10, 1e-9, 1e-8, 0.3, 1]\n",
        "max_accuracy = 0\n",
        "best_gamma = None\n",
        "for gamma in gammas:\n",
        "    SVM(\"rbf\",gamma)\n",
        "    if acc > max_accuracy:\n",
        "        max_accuracy = acc\n",
        "        best_gamma = gamma\n",
        "print('Best gamma: {} Best accuracy: {}'.format(best_gamma, max_accuracy))\n"
      ]
    },
    {
      "cell_type": "code",
      "execution_count": 80,
      "metadata": {},
      "outputs": [
        {
          "name": "stdout",
          "output_type": "stream",
          "text": [
            "Kernel:  rbf  Gamma: scale  C: 1e-05\n",
            "Accuracy: 0.13666666666666666\n",
            "Confusion matrix: \n",
            "[[ 0 24  0  0  0  0  0  0  0  0]\n",
            " [ 0 41  0  0  0  0  0  0  0  0]\n",
            " [ 0 32  0  0  0  0  0  0  0  0]\n",
            " [ 0 24  0  0  0  0  0  0  0  0]\n",
            " [ 0 37  0  0  0  0  0  0  0  0]\n",
            " [ 0 29  0  0  0  0  0  0  0  0]\n",
            " [ 0 24  0  0  0  0  0  0  0  0]\n",
            " [ 0 34  0  0  0  0  0  0  0  0]\n",
            " [ 0 21  0  0  0  0  0  0  0  0]\n",
            " [ 0 34  0  0  0  0  0  0  0  0]]\n",
            "-----------------------------------------------------------------------------\n",
            "Kernel:  rbf  Gamma: scale  C: 0.001\n",
            "Accuracy: 0.13666666666666666\n",
            "Confusion matrix: \n",
            "[[ 0 24  0  0  0  0  0  0  0  0]\n",
            " [ 0 41  0  0  0  0  0  0  0  0]\n",
            " [ 0 32  0  0  0  0  0  0  0  0]\n",
            " [ 0 24  0  0  0  0  0  0  0  0]\n",
            " [ 0 37  0  0  0  0  0  0  0  0]\n",
            " [ 0 29  0  0  0  0  0  0  0  0]\n",
            " [ 0 24  0  0  0  0  0  0  0  0]\n",
            " [ 0 34  0  0  0  0  0  0  0  0]\n",
            " [ 0 21  0  0  0  0  0  0  0  0]\n",
            " [ 0 34  0  0  0  0  0  0  0  0]]\n",
            "-----------------------------------------------------------------------------\n",
            "Kernel:  rbf  Gamma: scale  C: 0.1\n",
            "Accuracy: 0.7466666666666667\n",
            "Confusion matrix: \n",
            "[[24  0  0  0  0  0  0  0  0  0]\n",
            " [ 0 40  0  0  0  1  0  0  0  0]\n",
            " [ 0  3 25  1  1  0  0  2  0  0]\n",
            " [ 0  1  4 17  1  1  0  0  0  0]\n",
            " [ 0  0  1  0 32  0  0  0  0  4]\n",
            " [ 0  1  1  5  3 17  0  1  0  1]\n",
            " [ 1  0  4  0  5  1 13  0  0  0]\n",
            " [ 0  2  0  0  2  0  0 29  0  1]\n",
            " [ 0  1  3  3  2  0  0  1 10  1]\n",
            " [ 0  0  1  0 14  0  0  1  1 17]]\n",
            "-----------------------------------------------------------------------------\n",
            "Kernel:  rbf  Gamma: scale  C: 1\n",
            "Accuracy: 0.9033333333333333\n",
            "Confusion matrix: \n",
            "[[24  0  0  0  0  0  0  0  0  0]\n",
            " [ 0 41  0  0  0  0  0  0  0  0]\n",
            " [ 0  0 30  0  1  0  0  1  0  0]\n",
            " [ 0  0  1 18  0  5  0  0  0  0]\n",
            " [ 0  0  0  0 35  0  1  0  0  1]\n",
            " [ 0  1  1  0  0 25  0  2  0  0]\n",
            " [ 1  0  3  0  0  1 19  0  0  0]\n",
            " [ 0  0  0  0  2  0  0 31  0  1]\n",
            " [ 0  0  1  0  1  1  0  1 17  0]\n",
            " [ 0  0  0  0  1  0  0  1  1 31]]\n",
            "-----------------------------------------------------------------------------\n",
            "Kernel:  rbf  Gamma: scale  C: 5\n",
            "Accuracy: 0.9233333333333333\n",
            "Confusion matrix: \n",
            "[[24  0  0  0  0  0  0  0  0  0]\n",
            " [ 0 41  0  0  0  0  0  0  0  0]\n",
            " [ 0  0 31  0  1  0  0  0  0  0]\n",
            " [ 0  0  0 20  0  4  0  0  0  0]\n",
            " [ 0  0  0  0 34  0  1  0  0  2]\n",
            " [ 0  1  1  0  0 25  0  2  0  0]\n",
            " [ 0  0  2  0  0  1 21  0  0  0]\n",
            " [ 0  0  0  0  2  0  0 31  0  1]\n",
            " [ 0  0  0  0  1  1  0  1 18  0]\n",
            " [ 0  0  0  0  0  1  0  1  0 32]]\n",
            "-----------------------------------------------------------------------------\n",
            "Kernel:  rbf  Gamma: scale  C: 10\n",
            "Accuracy: 0.9233333333333333\n",
            "Confusion matrix: \n",
            "[[24  0  0  0  0  0  0  0  0  0]\n",
            " [ 0 41  0  0  0  0  0  0  0  0]\n",
            " [ 0  0 31  0  1  0  0  0  0  0]\n",
            " [ 0  0  0 20  0  4  0  0  0  0]\n",
            " [ 0  0  0  0 34  0  1  0  0  2]\n",
            " [ 0  1  1  0  0 25  0  2  0  0]\n",
            " [ 0  0  2  0  0  1 21  0  0  0]\n",
            " [ 0  0  0  0  2  0  0 31  0  1]\n",
            " [ 0  0  0  0  1  1  0  1 18  0]\n",
            " [ 0  0  0  0  0  1  0  1  0 32]]\n",
            "-----------------------------------------------------------------------------\n",
            "Kernel:  rbf  Gamma: scale  C: 100\n",
            "Accuracy: 0.9233333333333333\n",
            "Confusion matrix: \n",
            "[[24  0  0  0  0  0  0  0  0  0]\n",
            " [ 0 41  0  0  0  0  0  0  0  0]\n",
            " [ 0  0 31  0  1  0  0  0  0  0]\n",
            " [ 0  0  0 20  0  4  0  0  0  0]\n",
            " [ 0  0  0  0 34  0  1  0  0  2]\n",
            " [ 0  1  1  0  0 25  0  2  0  0]\n",
            " [ 0  0  2  0  0  1 21  0  0  0]\n",
            " [ 0  0  0  0  2  0  0 31  0  1]\n",
            " [ 0  0  0  0  1  1  0  1 18  0]\n",
            " [ 0  0  0  0  0  1  0  1  0 32]]\n",
            "-----------------------------------------------------------------------------\n",
            "Kernel:  rbf  Gamma: scale  C: 10000\n",
            "Accuracy: 0.9233333333333333\n",
            "Confusion matrix: \n",
            "[[24  0  0  0  0  0  0  0  0  0]\n",
            " [ 0 41  0  0  0  0  0  0  0  0]\n",
            " [ 0  0 31  0  1  0  0  0  0  0]\n",
            " [ 0  0  0 20  0  4  0  0  0  0]\n",
            " [ 0  0  0  0 34  0  1  0  0  2]\n",
            " [ 0  1  1  0  0 25  0  2  0  0]\n",
            " [ 0  0  2  0  0  1 21  0  0  0]\n",
            " [ 0  0  0  0  2  0  0 31  0  1]\n",
            " [ 0  0  0  0  1  1  0  1 18  0]\n",
            " [ 0  0  0  0  0  1  0  1  0 32]]\n",
            "-----------------------------------------------------------------------------\n",
            "Best C: 1e-05 Best accuracy: 0.84\n"
          ]
        }
      ],
      "source": [
        "# Testing various values of C\n",
        "Cvals = [0.00001, 0.001, 0.1, 1, 5, 10, 100, 10000]\n",
        "max_accuracy = 0\n",
        "best_C = None\n",
        "for cv in Cvals:\n",
        "    SVM(\"rbf\",\"scale\",cv)\n",
        "    if acc > max_accuracy:\n",
        "        max_accuracy = acc\n",
        "        best_C = cv\n",
        "print('Best C: {} Best accuracy: {}'.format(best_C, max_accuracy))"
      ]
    },
    {
      "cell_type": "markdown",
      "metadata": {},
      "source": [
        "# Observations, analysis and reports\n",
        "- For fixed gamma and C values, `rbf kernel` was found to produce best accuracy on the test set (90.33%) among all other standard kernels (linear, poly, rbf and sigmoid) in SVMs\n",
        "- Using rbf kernel and C value as 1.0, I found that best gamma happens to occur in the range - $[9*1e-9, 1e-8]$ and gives the best accuracy when set to 'scale' (84%).\n",
        "- Using best kernel (rbf) and best gamma (scale), I found that the best accuracy is obtained with $C>=5$ which is 92.33%. This is obvious because with increase in C, SVM overfits train set by creating a thin boundary (as no examples, not even outliers, are avoided while calculating the boundary). Though it worked here, it is not favorable because of its small margin. Generally this will be very vulnerable to outliers. An optimal value of C for this model might lie between [1e-1, 1]. \n"
      ]
    },
    {
      "cell_type": "markdown",
      "metadata": {},
      "source": []
    }
  ],
  "metadata": {
    "colab": {
      "name": "SVM.ipynb",
      "provenance": []
    },
    "kernelspec": {
      "display_name": "Python 3",
      "language": "python",
      "name": "python3"
    },
    "language_info": {
      "codemirror_mode": {
        "name": "ipython",
        "version": 3
      },
      "file_extension": ".py",
      "mimetype": "text/x-python",
      "name": "python",
      "nbconvert_exporter": "python",
      "pygments_lexer": "ipython3",
      "version": "3.8.12"
    }
  },
  "nbformat": 4,
  "nbformat_minor": 0
}
